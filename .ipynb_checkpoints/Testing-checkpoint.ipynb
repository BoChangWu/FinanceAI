{
 "cells": [
  {
   "cell_type": "code",
   "execution_count": 1,
   "id": "017e5940",
   "metadata": {},
   "outputs": [],
   "source": [
    "from environment import FinanceStock\n",
    "from tradingbot import TradingBot,plot_treward,plot_performance,set_seeds\n",
    "from backtester import TBBacktesterRM"
   ]
  },
  {
   "cell_type": "code",
   "execution_count": 6,
   "id": "f689ea54",
   "metadata": {},
   "outputs": [],
   "source": [
    "symbols = \n",
    "# ['1720.TW','3010.TW','2308.TW','2471.TW']\n",
    "#['2207.TW','2376.TW','2377.TW','2314.TW']\n",
    "# ['2317.TW','2382.TW','2891.TW','2886.TW']\n",
    "# ['2347.TW','2353.TW','2356.TW','2357.TW']\n",
    "# [**'2409.TW',**'2393.TW','2498.TW','2882.TW']\n",
    "# ['2409.TW','2393.TW','3034.TW','3016.TW']\n",
    "#['2330.TW','2379.TW','2412.TW','2881.TW','3008.TW','2303.TW','2344.TW','2449.TW']\n",
    "features_fix = ['r','s','m','v']"
   ]
  },
  {
   "cell_type": "code",
   "execution_count": 3,
   "id": "02fd5ca8",
   "metadata": {},
   "outputs": [],
   "source": [
    "class FinEnv:\n",
    "    def __init__(self,symbols,features_fix,window=20,lags=3,leverage=1,episodes=61,split=0.6,valid=0.2,test=0.2):\n",
    "        self.symbols = symbols\n",
    "        self.features_fix = features_fix\n",
    "        self.window = window\n",
    "        self.lags = lags\n",
    "        self.leverage = leverage\n",
    "        self.episodes = episodes\n",
    "        self.start = 0\n",
    "        self.split = split\n",
    "        self.valid = valid\n",
    "        self.test = test \n",
    "        \n",
    "        self.l_envs = dict()\n",
    "        self.v_envs = dict()\n",
    "        self.t_envs = dict()\n",
    "        self.tradingbots = dict()\n",
    "        self.backtesters = dict()\n",
    "        \n",
    "        self._build_env()\n",
    "#         self._build_tradingbot()\n",
    "        \n",
    "    def _build_env(self):\n",
    "        \n",
    "        for symbol in self.symbols:\n",
    "            learn_env = FinanceStock(symbol,[symbol] + self.features_fix,window=self.window,lags=self.lags,leverage=self.leverage,min_performance=0.9,\n",
    "                         min_accuracy=0.475,start=self.start,end=self.split,mu=None,std=None)\n",
    "            \n",
    "            self.l_envs[symbol] = learn_env\n",
    "    \n",
    "            self.v_envs[symbol] = FinanceStock(symbol,features=learn_env.features,window=learn_env.window,lags=learn_env.lags,\n",
    "                         leverage=learn_env.leverage,min_performance=0.0,min_accuracy=0.0,start=self.split,\n",
    "                         end=self.split+self.valid,mu=learn_env.mu,std=learn_env.std)\n",
    "\n",
    "            self.t_envs[symbol] = FinanceStock(symbol,features=learn_env.features,window=learn_env.window,lags=learn_env.lags,\n",
    "                         leverage=learn_env.leverage,min_performance=0.0,min_accuracy=0.0,start=self.split+self.valid,\n",
    "                         end=self.split+self.valid+self.test,mu=learn_env.mu,std=learn_env.std)\n",
    "            \n",
    "    \n",
    "    def _build_tradingbot(self):\n",
    "        \n",
    "        for symbol in self.symbols:\n",
    "            set_seeds(100)\n",
    "            self.tradingbots[symbol] = TradingBot(self.l_envs[symbol],self.v_envs[symbol])\n",
    "            self.tradingbots[symbol].learn(self.episodes)\n",
    "            \n",
    "            \n",
    "    def _get_tradingbot(self):\n",
    "        for symbol in self.symbols:\n",
    "            set_seeds(100)\n",
    "            self.tradingbots[symbol] = TradingBot(self.l_envs[symbol],self.v_envs[symbol])\n",
    "#             self.tradingbots[symbol].learn(self.episodes)"
   ]
  },
  {
   "cell_type": "code",
   "execution_count": 7,
   "id": "c1e9c334",
   "metadata": {},
   "outputs": [
    {
     "name": "stdout",
     "output_type": "stream",
     "text": [
      "[*********************100%%**********************]  1 of 1 completed\n",
      "[*********************100%%**********************]  1 of 1 completed\n",
      "[*********************100%%**********************]  1 of 1 completed\n",
      "[*********************100%%**********************]  1 of 1 completed\n",
      "[*********************100%%**********************]  1 of 1 completed\n",
      "[*********************100%%**********************]  1 of 1 completed\n",
      "[*********************100%%**********************]  1 of 1 completed\n",
      "[*********************100%%**********************]  1 of 1 completed\n",
      "[*********************100%%**********************]  1 of 1 completed\n",
      "[*********************100%%**********************]  1 of 1 completed\n",
      "[*********************100%%**********************]  1 of 1 completed\n",
      "[*********************100%%**********************]  1 of 1 completed\n"
     ]
    }
   ],
   "source": [
    "env = FinEnv(symbols,features_fix)"
   ]
  },
  {
   "cell_type": "markdown",
   "id": "b1c6aa46",
   "metadata": {},
   "source": [
    "## 未有model"
   ]
  },
  {
   "cell_type": "code",
   "execution_count": 8,
   "id": "424a1e98",
   "metadata": {},
   "outputs": [
    {
     "name": "stdout",
     "output_type": "stream",
     "text": [
      "episode: 10/61 | treward:   16 | perf: 0.839 | av:  98.5 | max: 2108 \n",
      " episode: 10/61 | VALIDATION | treward: 1858 | perf: 1.332 | eps: 0.95\n",
      "=======================================================================\n",
      "episode: 20/61 | treward:   16 | perf: 0.834 | av: 262.2 | max: 3505 \n",
      " episode: 20/61 | VALIDATION | treward: 1858 | perf: 1.044 | eps: 0.86\n",
      "=======================================================================\n",
      "episode: 30/61 | treward:   18 | perf: 0.817 | av: 259.8 | max: 3505 \n",
      " episode: 30/61 | VALIDATION | treward: 1858 | perf: 1.044 | eps: 0.78\n",
      "=======================================================================\n",
      "episode: 40/61 | treward:  102 | perf: 0.845 | av: 330.0 | max: 3505 \n",
      " episode: 40/61 | VALIDATION | treward: 1858 | perf: 1.211 | eps: 0.70\n",
      "=======================================================================\n",
      "episode: 50/61 | treward: 3505 | perf: 2.895 | av: 541.6 | max: 3505 \n",
      " episode: 50/61 | VALIDATION | treward: 1858 | perf: 2.221 | eps: 0.64\n",
      "=======================================================================\n",
      "episode: 60/61 | treward: 3505 | perf: 7.301 | av: 915.8 | max: 3505  \n",
      " episode: 60/61 | VALIDATION | treward: 1858 | perf: 1.430 | eps: 0.58\n",
      "=======================================================================\n",
      "INFO:tensorflow:Assets written to: ./models/1720.TW\\assets max: 3505 \n",
      "episode: 10/61 | treward:   16 | perf: 1.181 | av:  45.3 | max:  491 \n",
      " episode: 10/61 | VALIDATION | treward: 1666 | perf: 0.739 | eps: 0.92\n",
      "=======================================================================\n",
      "episode: 20/61 | treward:   57 | perf: 1.198 | av: 184.4 | max: 2273 \n",
      " episode: 20/61 | VALIDATION | treward: 1666 | perf: 0.932 | eps: 0.83\n",
      "=======================================================================\n",
      "episode: 30/61 | treward: 3144 | perf: 1.187 | av: 562.5 | max: 3144 \n",
      " episode: 30/61 | VALIDATION | treward: 1666 | perf: 0.541 | eps: 0.75\n",
      "=======================================================================\n",
      "episode: 40/61 | treward:   16 | perf: 1.049 | av: 504.4 | max: 3144 \n",
      " episode: 40/61 | VALIDATION | treward: 1666 | perf: 0.581 | eps: 0.68\n",
      "=======================================================================\n",
      "episode: 50/61 | treward:   32 | perf: 0.890 | av: 413.6 | max: 3144 \n",
      " episode: 50/61 | VALIDATION | treward: 1666 | perf: 0.668 | eps: 0.62\n",
      "=======================================================================\n",
      "episode: 60/61 | treward:   18 | perf: 0.734 | av: 345.4 | max: 3144 \n",
      " episode: 60/61 | VALIDATION | treward: 1666 | perf: 0.421 | eps: 0.56\n",
      "=======================================================================\n",
      "INFO:tensorflow:Assets written to: ./models/3010.TW\\assets max: 3144 \n",
      "episode: 10/61 | treward:   17 | perf: 0.875 | av:  19.5 | max:  216 \n",
      " episode: 10/61 | VALIDATION | treward: 1873 | perf: 0.979 | eps: 0.92\n",
      "=======================================================================\n",
      "episode: 20/61 | treward:  506 | perf: 3.004 | av:  50.1 | max:  506 \n",
      " episode: 20/61 | VALIDATION | treward: 1873 | perf: 0.581 | eps: 0.83\n",
      "=======================================================================\n",
      "episode: 30/61 | treward:   17 | perf: 0.917 | av: 195.8 | max: 3532  \n",
      " episode: 30/61 | VALIDATION | treward: 1873 | perf: 0.721 | eps: 0.75\n",
      "=======================================================================\n",
      "episode: 40/61 | treward: 3532 | perf: 9.540 | av: 431.2 | max: 3532 \n",
      " episode: 40/61 | VALIDATION | treward: 1873 | perf: 0.498 | eps: 0.68\n",
      "=======================================================================\n",
      "episode: 50/61 | treward:   23 | perf: 0.891 | av: 646.8 | max: 3532 \n",
      " episode: 50/61 | VALIDATION | treward: 1873 | perf: 1.016 | eps: 0.62\n",
      "=======================================================================\n",
      "episode: 60/61 | treward:   16 | perf: 0.895 | av: 854.4 | max: 3532 \n",
      " episode: 60/61 | VALIDATION | treward: 1873 | perf: 0.618 | eps: 0.56\n",
      "=======================================================================\n",
      "INFO:tensorflow:Assets written to: ./models/2308.TW\\assets max: 3532 \n",
      "episode: 10/61 | treward:   16 | perf: 0.832 | av: 151.9 | max: 3463 \n",
      " episode: 10/61 | VALIDATION | treward: 1836 | perf: 0.679 | eps: 0.92\n",
      "=======================================================================\n",
      "episode: 20/61 | treward:   16 | perf: 0.868 | av: 440.7 | max: 3463  \n",
      " episode: 20/61 | VALIDATION | treward: 1836 | perf: 0.724 | eps: 0.83\n",
      "=======================================================================\n",
      "episode: 30/61 | treward: 2311 | perf: 0.885 | av: 694.7 | max: 3463 \n",
      " episode: 30/61 | VALIDATION | treward: 1836 | perf: 0.689 | eps: 0.75\n",
      "=======================================================================\n",
      "episode: 40/61 | treward:   53 | perf: 0.871 | av: 558.4 | max: 3463 \n",
      " episode: 40/61 | VALIDATION | treward: 1836 | perf: 0.740 | eps: 0.68\n",
      "=======================================================================\n",
      "episode: 50/61 | treward: 1460 | perf: 0.880 | av: 885.3 | max: 3463 \n",
      " episode: 50/61 | VALIDATION | treward: 1836 | perf: 1.908 | eps: 0.62\n",
      "=======================================================================\n",
      "episode: 60/61 | treward:   36 | perf: 1.043 | av: 1035.6 | max: 3463 \n",
      " episode: 60/61 | VALIDATION | treward: 1836 | perf: 0.550 | eps: 0.56\n",
      "=======================================================================\n",
      "INFO:tensorflow:Assets written to: ./models/2471.TW\\assets| max: 3463 \n"
     ]
    }
   ],
   "source": [
    "env._build_tradingbot()"
   ]
  },
  {
   "cell_type": "markdown",
   "id": "2de1fd21",
   "metadata": {},
   "source": [
    "## 已有"
   ]
  },
  {
   "cell_type": "code",
   "execution_count": null,
   "id": "2bf14264",
   "metadata": {},
   "outputs": [],
   "source": [
    "env._get_tradingbot()"
   ]
  },
  {
   "cell_type": "code",
   "execution_count": null,
   "id": "4e6ee278",
   "metadata": {},
   "outputs": [],
   "source": [
    "target = '2412.TW'"
   ]
  },
  {
   "cell_type": "code",
   "execution_count": null,
   "id": "3e7e18a8",
   "metadata": {},
   "outputs": [],
   "source": [
    "env.tradingbots[target].model"
   ]
  },
  {
   "cell_type": "code",
   "execution_count": null,
   "id": "a9c08101",
   "metadata": {},
   "outputs": [],
   "source": [
    "tb = TBBacktesterRM(env.t_envs[target],env.tradingbots[target].model,10000,0.0,0,verbose=True)"
   ]
  },
  {
   "cell_type": "code",
   "execution_count": null,
   "id": "0d1de64d",
   "metadata": {},
   "outputs": [],
   "source": [
    "tb.backtest_strategy(sl=0.015,tsl=None,tp=0.0185,wait=5)"
   ]
  },
  {
   "cell_type": "markdown",
   "id": "8ae7b00f",
   "metadata": {},
   "source": [
    "https://havocfuture.tw/blog/python-indicators-talib"
   ]
  }
 ],
 "metadata": {
  "kernelspec": {
   "display_name": "Python 3 (ipykernel)",
   "language": "python",
   "name": "python3"
  },
  "language_info": {
   "codemirror_mode": {
    "name": "ipython",
    "version": 3
   },
   "file_extension": ".py",
   "mimetype": "text/x-python",
   "name": "python",
   "nbconvert_exporter": "python",
   "pygments_lexer": "ipython3",
   "version": "3.8.12"
  }
 },
 "nbformat": 4,
 "nbformat_minor": 5
}
