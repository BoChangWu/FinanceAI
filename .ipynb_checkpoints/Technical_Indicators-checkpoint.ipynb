{
 "cells": [
  {
   "cell_type": "markdown",
   "id": "88933d15",
   "metadata": {},
   "source": [
    "# 技術指標"
   ]
  },
  {
   "cell_type": "markdown",
   "id": "e14190dc",
   "metadata": {},
   "source": [
    "以`TA-Lib`所擁有的技術指標做研究"
   ]
  },
  {
   "cell_type": "code",
   "execution_count": 9,
   "id": "a1cf4d99",
   "metadata": {},
   "outputs": [],
   "source": [
    "import os\n",
    "import math\n",
    "import random\n",
    "import talib\n",
    "import numpy as np\n",
    "import pandas as pd\n",
    "import yfinance as yf\n",
    "import pandas_datareader.data as web\n",
    "\n",
    "from pylab import plt,mpl\n",
    "os.environ['PYTHONHASHSEED'] = '0'\n",
    "plt.style.use('seaborn')\n",
    "mpl.rcParams['savefig.dpi'] = 300\n",
    "mpl.rcParams['font.family'] = 'serif' "
   ]
  },
  {
   "cell_type": "code",
   "execution_count": 4,
   "id": "06fe2e66",
   "metadata": {},
   "outputs": [],
   "source": [
    "# 先載入一支股票作為範例\n",
    "symbol = '2330.TW'"
   ]
  },
  {
   "cell_type": "code",
   "execution_count": 5,
   "id": "bc581e83",
   "metadata": {},
   "outputs": [],
   "source": [
    "stock = yf.Ticker(symbol)"
   ]
  },
  {
   "cell_type": "code",
   "execution_count": 8,
   "id": "ab8b018f",
   "metadata": {},
   "outputs": [
    {
     "data": {
      "text/plain": [
       "{'address1': 'Hsinchu Science Park',\n",
       " 'address2': 'No. 8, Li-Hsin Road 6',\n",
       " 'city': 'Hsinchu City',\n",
       " 'zip': '300096',\n",
       " 'country': 'Taiwan',\n",
       " 'phone': '886 3 563 6688',\n",
       " 'fax': '886 3 563 7000',\n",
       " 'website': 'https://www.tsmc.com',\n",
       " 'industry': 'Semiconductors',\n",
       " 'industryKey': 'semiconductors',\n",
       " 'industryDisp': 'Semiconductors',\n",
       " 'sector': 'Technology',\n",
       " 'sectorKey': 'technology',\n",
       " 'sectorDisp': 'Technology',\n",
       " 'longBusinessSummary': 'Taiwan Semiconductor Manufacturing Company Limited, together with its subsidiaries, manufactures, packages, tests, and sells integrated circuits and other semiconductor devices in Taiwan, China, Europe, the Middle East, Africa, Japan, the United States, and internationally. It provides complementary metal oxide silicon wafer fabrication processes to manufacture logic, mixed-signal, radio frequency, and embedded memory semiconductors. The company also offers customer support and engineering services, as well as manufactures masks. Its products are used in high performance computing, smartphone, Internet of things, automotive, and digital consumer electronics. The company was incorporated in 1987 and is headquartered in Hsinchu City, Taiwan.',\n",
       " 'companyOfficers': [{'maxAge': 1,\n",
       "   'name': 'Dr. C. C.  Wei',\n",
       "   'title': 'Vice Chairman & CEO',\n",
       "   'fiscalYear': 2022,\n",
       "   'totalPay': 598000000,\n",
       "   'exercisedValue': 0,\n",
       "   'unexercisedValue': 0},\n",
       "  {'maxAge': 1,\n",
       "   'name': 'Mr. Jen-Chau  Huang',\n",
       "   'title': 'VP & CFO',\n",
       "   'fiscalYear': 2022,\n",
       "   'totalPay': 108200000,\n",
       "   'exercisedValue': 0,\n",
       "   'unexercisedValue': 0},\n",
       "  {'maxAge': 1,\n",
       "   'name': 'Mr. Y. P. Chin',\n",
       "   'title': 'Sr. VP of Operations & Overseas Operations Office',\n",
       "   'exercisedValue': 0,\n",
       "   'unexercisedValue': 0},\n",
       "  {'maxAge': 1,\n",
       "   'name': 'Dr. Horng-Dar  Lin',\n",
       "   'title': 'VP of Corp. Information Technology & Chief Information Officer',\n",
       "   'exercisedValue': 0,\n",
       "   'unexercisedValue': 0},\n",
       "  {'maxAge': 1,\n",
       "   'name': 'Jeff  Su',\n",
       "   'title': 'Director of Investor Relations',\n",
       "   'exercisedValue': 0,\n",
       "   'unexercisedValue': 0},\n",
       "  {'maxAge': 1,\n",
       "   'name': 'Ms. Sylvia  Fang',\n",
       "   'title': 'VP of Legal, Gen. Counsel, Corp. Governance Officer & Sec.',\n",
       "   'exercisedValue': 0,\n",
       "   'unexercisedValue': 0},\n",
       "  {'maxAge': 1,\n",
       "   'name': 'Ms. Elizabeth  Sun',\n",
       "   'title': 'Sr. Director of Corp. Communication Division',\n",
       "   'exercisedValue': 0,\n",
       "   'unexercisedValue': 0},\n",
       "  {'maxAge': 1,\n",
       "   'name': 'Ms. Li Mei  He Ho',\n",
       "   'title': 'Sr. VP of HR',\n",
       "   'exercisedValue': 0,\n",
       "   'unexercisedValue': 0},\n",
       "  {'maxAge': 1,\n",
       "   'name': 'Dr. Wei-Jen  Lo',\n",
       "   'title': 'Sr. VP of R&D',\n",
       "   'exercisedValue': 0,\n",
       "   'unexercisedValue': 0},\n",
       "  {'maxAge': 1,\n",
       "   'name': 'Mr. Richard B. Cassidy II',\n",
       "   'title': 'Sr. VP of Corp. Strategy Office and Overseas Office & Chairman of TSMC Arizona',\n",
       "   'exercisedValue': 0,\n",
       "   'unexercisedValue': 0}],\n",
       " 'compensationAsOfEpochDate': 1672444800,\n",
       " 'maxAge': 86400,\n",
       " 'priceHint': 2,\n",
       " 'previousClose': 528.0,\n",
       " 'open': 530.0,\n",
       " 'dayLow': 529.0,\n",
       " 'dayHigh': 533.0,\n",
       " 'regularMarketPreviousClose': 528.0,\n",
       " 'regularMarketOpen': 530.0,\n",
       " 'regularMarketDayLow': 529.0,\n",
       " 'regularMarketDayHigh': 533.0,\n",
       " 'dividendRate': 12.0,\n",
       " 'dividendYield': 0.0227,\n",
       " 'exDividendDate': 1702512000,\n",
       " 'payoutRatio': 0.30290002,\n",
       " 'fiveYearAvgDividendYield': 2.58,\n",
       " 'beta': 1.181354,\n",
       " 'trailingPE': 14.893617,\n",
       " 'forwardPE': 14.503817,\n",
       " 'volume': 8539088,\n",
       " 'regularMarketVolume': 8539088,\n",
       " 'averageVolume': 20116921,\n",
       " 'averageVolume10days': 22484535,\n",
       " 'averageDailyVolume10Day': 22484535,\n",
       " 'bid': 531.0,\n",
       " 'ask': 532.0,\n",
       " 'bidSize': 0,\n",
       " 'askSize': 0,\n",
       " 'marketCap': 13795877453824,\n",
       " 'fiftyTwoWeekLow': 370.0,\n",
       " 'fiftyTwoWeekHigh': 594.0,\n",
       " 'priceToSalesTrailing12Months': 6.1916323,\n",
       " 'fiftyDayAverage': 543.8,\n",
       " 'twoHundredDayAverage': 531.7025,\n",
       " 'trailingAnnualDividendRate': 11.5,\n",
       " 'trailingAnnualDividendYield': 0.021780303,\n",
       " 'currency': 'TWD',\n",
       " 'enterpriseValue': 12967344078848,\n",
       " 'profitMargins': 0.43333998,\n",
       " 'floatShares': 24175691831,\n",
       " 'sharesOutstanding': 25932099584,\n",
       " 'heldPercentInsiders': 0.0,\n",
       " 'heldPercentInstitutions': 0.41774,\n",
       " 'impliedSharesOutstanding': 25932099584,\n",
       " 'bookValue': 122.966,\n",
       " 'priceToBook': 4.326399,\n",
       " 'lastFiscalYearEnd': 1672444800,\n",
       " 'nextFiscalYearEnd': 1703980800,\n",
       " 'mostRecentQuarter': 1688083200,\n",
       " 'earningsQuarterlyGrowth': -0.233,\n",
       " 'netIncomeToCommon': 965555519488,\n",
       " 'trailingEps': 35.72,\n",
       " 'forwardEps': 36.68,\n",
       " 'pegRatio': 5.43,\n",
       " 'lastSplitFactor': '1.005:1',\n",
       " 'lastSplitDate': 1247616000,\n",
       " 'enterpriseToRevenue': 5.82,\n",
       " 'enterpriseToEbitda': 8.602,\n",
       " '52WeekChange': 0.2054795,\n",
       " 'SandP52WeekChange': 0.16994166,\n",
       " 'lastDividendValue': 3.0,\n",
       " 'lastDividendDate': 1702512000,\n",
       " 'exchange': 'TAI',\n",
       " 'quoteType': 'EQUITY',\n",
       " 'symbol': '2330.TW',\n",
       " 'underlyingSymbol': '2330.TW',\n",
       " 'shortName': 'TAIWAN SEMICONDUCTOR MANUFACTUR',\n",
       " 'longName': 'Taiwan Semiconductor Manufacturing Company Limited',\n",
       " 'firstTradeDateEpochUtc': 946947600,\n",
       " 'timeZoneFullName': 'Asia/Taipei',\n",
       " 'timeZoneShortName': 'CST',\n",
       " 'uuid': 'b6844710-30a4-30d3-8c32-2bd2ca535487',\n",
       " 'messageBoardId': 'finmb_380075',\n",
       " 'gmtOffSetMilliseconds': 28800000,\n",
       " 'currentPrice': 532.0,\n",
       " 'targetHighPrice': 820.0,\n",
       " 'targetLowPrice': 118.0,\n",
       " 'targetMeanPrice': 647.96,\n",
       " 'targetMedianPrice': 660.0,\n",
       " 'recommendationMean': 1.7,\n",
       " 'recommendationKey': 'buy',\n",
       " 'numberOfAnalystOpinions': 26,\n",
       " 'totalCash': 1489107681280,\n",
       " 'totalCashPerShare': 57.423,\n",
       " 'ebitda': 1507454877696,\n",
       " 'totalDebt': 955057242112,\n",
       " 'quickRatio': 2.075,\n",
       " 'currentRatio': 2.417,\n",
       " 'totalRevenue': 2228148764672,\n",
       " 'debtToEquity': 29.795,\n",
       " 'revenuePerShare': 85.932,\n",
       " 'returnOnAssets': 0.14067,\n",
       " 'returnOnEquity': 0.33783,\n",
       " 'grossProfits': 1348354806000,\n",
       " 'freeCashflow': 13664679936,\n",
       " 'operatingCashflow': 1452072763392,\n",
       " 'earningsGrowth': -0.233,\n",
       " 'revenueGrowth': -0.1,\n",
       " 'grossMargins': 0.58631,\n",
       " 'ebitdaMargins': 0.67655,\n",
       " 'operatingMargins': 0.47957,\n",
       " 'financialCurrency': 'TWD',\n",
       " 'trailingPegRatio': 2.9922}"
      ]
     },
     "execution_count": 8,
     "metadata": {},
     "output_type": "execute_result"
    }
   ],
   "source": [
    "stock.info"
   ]
  },
  {
   "cell_type": "code",
   "execution_count": 36,
   "id": "1c5125e4",
   "metadata": {},
   "outputs": [],
   "source": [
    "data = stock.history(period='max')"
   ]
  },
  {
   "cell_type": "code",
   "execution_count": 37,
   "id": "f4bee65e",
   "metadata": {},
   "outputs": [
    {
     "data": {
      "text/html": [
       "<div>\n",
       "<style scoped>\n",
       "    .dataframe tbody tr th:only-of-type {\n",
       "        vertical-align: middle;\n",
       "    }\n",
       "\n",
       "    .dataframe tbody tr th {\n",
       "        vertical-align: top;\n",
       "    }\n",
       "\n",
       "    .dataframe thead th {\n",
       "        text-align: right;\n",
       "    }\n",
       "</style>\n",
       "<table border=\"1\" class=\"dataframe\">\n",
       "  <thead>\n",
       "    <tr style=\"text-align: right;\">\n",
       "      <th></th>\n",
       "      <th>Open</th>\n",
       "      <th>High</th>\n",
       "      <th>Low</th>\n",
       "      <th>Close</th>\n",
       "      <th>Volume</th>\n",
       "      <th>Dividends</th>\n",
       "      <th>Stock Splits</th>\n",
       "    </tr>\n",
       "    <tr>\n",
       "      <th>Date</th>\n",
       "      <th></th>\n",
       "      <th></th>\n",
       "      <th></th>\n",
       "      <th></th>\n",
       "      <th></th>\n",
       "      <th></th>\n",
       "      <th></th>\n",
       "    </tr>\n",
       "  </thead>\n",
       "  <tbody>\n",
       "    <tr>\n",
       "      <th>2000-01-04 00:00:00+08:00</th>\n",
       "      <td>34.844654</td>\n",
       "      <td>34.844654</td>\n",
       "      <td>34.257389</td>\n",
       "      <td>34.844654</td>\n",
       "      <td>200662336736</td>\n",
       "      <td>0.0</td>\n",
       "      <td>0.0</td>\n",
       "    </tr>\n",
       "    <tr>\n",
       "      <th>2000-01-05 00:00:00+08:00</th>\n",
       "      <td>34.844663</td>\n",
       "      <td>35.627621</td>\n",
       "      <td>34.453091</td>\n",
       "      <td>35.627621</td>\n",
       "      <td>402466805912</td>\n",
       "      <td>0.0</td>\n",
       "      <td>0.0</td>\n",
       "    </tr>\n",
       "    <tr>\n",
       "      <th>2000-01-06 00:00:00+08:00</th>\n",
       "      <td>35.431919</td>\n",
       "      <td>35.627612</td>\n",
       "      <td>34.844654</td>\n",
       "      <td>34.844654</td>\n",
       "      <td>197545715802</td>\n",
       "      <td>0.0</td>\n",
       "      <td>0.0</td>\n",
       "    </tr>\n",
       "    <tr>\n",
       "      <th>2000-01-07 00:00:00+08:00</th>\n",
       "      <td>33.670129</td>\n",
       "      <td>34.257394</td>\n",
       "      <td>33.278557</td>\n",
       "      <td>33.865822</td>\n",
       "      <td>235270344752</td>\n",
       "      <td>0.0</td>\n",
       "      <td>0.0</td>\n",
       "    </tr>\n",
       "    <tr>\n",
       "      <th>2000-01-10 00:00:00+08:00</th>\n",
       "      <td>34.844663</td>\n",
       "      <td>35.236048</td>\n",
       "      <td>34.257398</td>\n",
       "      <td>35.040356</td>\n",
       "      <td>276171685539</td>\n",
       "      <td>0.0</td>\n",
       "      <td>0.0</td>\n",
       "    </tr>\n",
       "    <tr>\n",
       "      <th>...</th>\n",
       "      <td>...</td>\n",
       "      <td>...</td>\n",
       "      <td>...</td>\n",
       "      <td>...</td>\n",
       "      <td>...</td>\n",
       "      <td>...</td>\n",
       "      <td>...</td>\n",
       "    </tr>\n",
       "    <tr>\n",
       "      <th>2023-10-02 00:00:00+08:00</th>\n",
       "      <td>530.000000</td>\n",
       "      <td>534.000000</td>\n",
       "      <td>528.000000</td>\n",
       "      <td>533.000000</td>\n",
       "      <td>25427911</td>\n",
       "      <td>0.0</td>\n",
       "      <td>0.0</td>\n",
       "    </tr>\n",
       "    <tr>\n",
       "      <th>2023-10-03 00:00:00+08:00</th>\n",
       "      <td>528.000000</td>\n",
       "      <td>533.000000</td>\n",
       "      <td>528.000000</td>\n",
       "      <td>529.000000</td>\n",
       "      <td>14490129</td>\n",
       "      <td>0.0</td>\n",
       "      <td>0.0</td>\n",
       "    </tr>\n",
       "    <tr>\n",
       "      <th>2023-10-04 00:00:00+08:00</th>\n",
       "      <td>521.000000</td>\n",
       "      <td>523.000000</td>\n",
       "      <td>519.000000</td>\n",
       "      <td>520.000000</td>\n",
       "      <td>28358964</td>\n",
       "      <td>0.0</td>\n",
       "      <td>0.0</td>\n",
       "    </tr>\n",
       "    <tr>\n",
       "      <th>2023-10-05 00:00:00+08:00</th>\n",
       "      <td>523.000000</td>\n",
       "      <td>529.000000</td>\n",
       "      <td>523.000000</td>\n",
       "      <td>528.000000</td>\n",
       "      <td>24945684</td>\n",
       "      <td>0.0</td>\n",
       "      <td>0.0</td>\n",
       "    </tr>\n",
       "    <tr>\n",
       "      <th>2023-10-06 00:00:00+08:00</th>\n",
       "      <td>530.000000</td>\n",
       "      <td>533.000000</td>\n",
       "      <td>529.000000</td>\n",
       "      <td>532.000000</td>\n",
       "      <td>15488672</td>\n",
       "      <td>0.0</td>\n",
       "      <td>0.0</td>\n",
       "    </tr>\n",
       "  </tbody>\n",
       "</table>\n",
       "<p>5926 rows × 7 columns</p>\n",
       "</div>"
      ],
      "text/plain": [
       "                                 Open        High         Low       Close  \\\n",
       "Date                                                                        \n",
       "2000-01-04 00:00:00+08:00   34.844654   34.844654   34.257389   34.844654   \n",
       "2000-01-05 00:00:00+08:00   34.844663   35.627621   34.453091   35.627621   \n",
       "2000-01-06 00:00:00+08:00   35.431919   35.627612   34.844654   34.844654   \n",
       "2000-01-07 00:00:00+08:00   33.670129   34.257394   33.278557   33.865822   \n",
       "2000-01-10 00:00:00+08:00   34.844663   35.236048   34.257398   35.040356   \n",
       "...                               ...         ...         ...         ...   \n",
       "2023-10-02 00:00:00+08:00  530.000000  534.000000  528.000000  533.000000   \n",
       "2023-10-03 00:00:00+08:00  528.000000  533.000000  528.000000  529.000000   \n",
       "2023-10-04 00:00:00+08:00  521.000000  523.000000  519.000000  520.000000   \n",
       "2023-10-05 00:00:00+08:00  523.000000  529.000000  523.000000  528.000000   \n",
       "2023-10-06 00:00:00+08:00  530.000000  533.000000  529.000000  532.000000   \n",
       "\n",
       "                                 Volume  Dividends  Stock Splits  \n",
       "Date                                                              \n",
       "2000-01-04 00:00:00+08:00  200662336736        0.0           0.0  \n",
       "2000-01-05 00:00:00+08:00  402466805912        0.0           0.0  \n",
       "2000-01-06 00:00:00+08:00  197545715802        0.0           0.0  \n",
       "2000-01-07 00:00:00+08:00  235270344752        0.0           0.0  \n",
       "2000-01-10 00:00:00+08:00  276171685539        0.0           0.0  \n",
       "...                                 ...        ...           ...  \n",
       "2023-10-02 00:00:00+08:00      25427911        0.0           0.0  \n",
       "2023-10-03 00:00:00+08:00      14490129        0.0           0.0  \n",
       "2023-10-04 00:00:00+08:00      28358964        0.0           0.0  \n",
       "2023-10-05 00:00:00+08:00      24945684        0.0           0.0  \n",
       "2023-10-06 00:00:00+08:00      15488672        0.0           0.0  \n",
       "\n",
       "[5926 rows x 7 columns]"
      ]
     },
     "execution_count": 37,
     "metadata": {},
     "output_type": "execute_result"
    }
   ],
   "source": [
    "data"
   ]
  },
  {
   "cell_type": "markdown",
   "id": "afa31506",
   "metadata": {},
   "source": [
    "## TA-lib 所有指標代碼"
   ]
  },
  {
   "cell_type": "code",
   "execution_count": 18,
   "id": "b21ed32d",
   "metadata": {},
   "outputs": [
    {
     "data": {
      "text/plain": [
       "dict_keys(['Cycle Indicators', 'Math Operators', 'Math Transform', 'Momentum Indicators', 'Overlap Studies', 'Pattern Recognition', 'Price Transform', 'Statistic Functions', 'Volatility Indicators', 'Volume Indicators'])"
      ]
     },
     "execution_count": 18,
     "metadata": {},
     "output_type": "execute_result"
    }
   ],
   "source": [
    "codes = talib.get_function_groups()\n",
    "codes.keys()"
   ]
  },
  {
   "cell_type": "code",
   "execution_count": 27,
   "id": "335ec33f",
   "metadata": {},
   "outputs": [
    {
     "name": "stdout",
     "output_type": "stream",
     "text": [
      "Cycle Indicators\n",
      "--------------------------------------------------\n",
      "['HT_DCPERIOD', 'HT_DCPHASE', 'HT_PHASOR', 'HT_SINE', 'HT_TRENDMODE']\n",
      "Math Operators\n",
      "--------------------------------------------------\n",
      "['ADD', 'DIV', 'MAX', 'MAXINDEX', 'MIN', 'MININDEX', 'MINMAX', 'MINMAXINDEX', 'MULT', 'SUB', 'SUM']\n",
      "Math Transform\n",
      "--------------------------------------------------\n",
      "['ACOS', 'ASIN', 'ATAN', 'CEIL', 'COS', 'COSH', 'EXP', 'FLOOR', 'LN', 'LOG10', 'SIN', 'SINH', 'SQRT', 'TAN', 'TANH']\n",
      "Momentum Indicators\n",
      "--------------------------------------------------\n",
      "['ADX', 'ADXR', 'APO', 'AROON', 'AROONOSC', 'BOP', 'CCI', 'CMO', 'DX', 'MACD', 'MACDEXT', 'MACDFIX', 'MFI', 'MINUS_DI', 'MINUS_DM', 'MOM', 'PLUS_DI', 'PLUS_DM', 'PPO', 'ROC', 'ROCP', 'ROCR', 'ROCR100', 'RSI', 'STOCH', 'STOCHF', 'STOCHRSI', 'TRIX', 'ULTOSC', 'WILLR']\n",
      "Overlap Studies\n",
      "--------------------------------------------------\n",
      "['BBANDS', 'DEMA', 'EMA', 'HT_TRENDLINE', 'KAMA', 'MA', 'MAMA', 'MAVP', 'MIDPOINT', 'MIDPRICE', 'SAR', 'SAREXT', 'SMA', 'T3', 'TEMA', 'TRIMA', 'WMA']\n",
      "Pattern Recognition\n",
      "--------------------------------------------------\n",
      "['CDL2CROWS', 'CDL3BLACKCROWS', 'CDL3INSIDE', 'CDL3LINESTRIKE', 'CDL3OUTSIDE', 'CDL3STARSINSOUTH', 'CDL3WHITESOLDIERS', 'CDLABANDONEDBABY', 'CDLADVANCEBLOCK', 'CDLBELTHOLD', 'CDLBREAKAWAY', 'CDLCLOSINGMARUBOZU', 'CDLCONCEALBABYSWALL', 'CDLCOUNTERATTACK', 'CDLDARKCLOUDCOVER', 'CDLDOJI', 'CDLDOJISTAR', 'CDLDRAGONFLYDOJI', 'CDLENGULFING', 'CDLEVENINGDOJISTAR', 'CDLEVENINGSTAR', 'CDLGAPSIDESIDEWHITE', 'CDLGRAVESTONEDOJI', 'CDLHAMMER', 'CDLHANGINGMAN', 'CDLHARAMI', 'CDLHARAMICROSS', 'CDLHIGHWAVE', 'CDLHIKKAKE', 'CDLHIKKAKEMOD', 'CDLHOMINGPIGEON', 'CDLIDENTICAL3CROWS', 'CDLINNECK', 'CDLINVERTEDHAMMER', 'CDLKICKING', 'CDLKICKINGBYLENGTH', 'CDLLADDERBOTTOM', 'CDLLONGLEGGEDDOJI', 'CDLLONGLINE', 'CDLMARUBOZU', 'CDLMATCHINGLOW', 'CDLMATHOLD', 'CDLMORNINGDOJISTAR', 'CDLMORNINGSTAR', 'CDLONNECK', 'CDLPIERCING', 'CDLRICKSHAWMAN', 'CDLRISEFALL3METHODS', 'CDLSEPARATINGLINES', 'CDLSHOOTINGSTAR', 'CDLSHORTLINE', 'CDLSPINNINGTOP', 'CDLSTALLEDPATTERN', 'CDLSTICKSANDWICH', 'CDLTAKURI', 'CDLTASUKIGAP', 'CDLTHRUSTING', 'CDLTRISTAR', 'CDLUNIQUE3RIVER', 'CDLUPSIDEGAP2CROWS', 'CDLXSIDEGAP3METHODS']\n",
      "Price Transform\n",
      "--------------------------------------------------\n",
      "['AVGPRICE', 'MEDPRICE', 'TYPPRICE', 'WCLPRICE']\n",
      "Statistic Functions\n",
      "--------------------------------------------------\n",
      "['BETA', 'CORREL', 'LINEARREG', 'LINEARREG_ANGLE', 'LINEARREG_INTERCEPT', 'LINEARREG_SLOPE', 'STDDEV', 'TSF', 'VAR']\n",
      "Volatility Indicators\n",
      "--------------------------------------------------\n",
      "['ATR', 'NATR', 'TRANGE']\n",
      "Volume Indicators\n",
      "--------------------------------------------------\n",
      "['AD', 'ADOSC', 'OBV']\n"
     ]
    }
   ],
   "source": [
    "for i,k in codes.items():\n",
    "    print(i)\n",
    "    print(50*'-')\n",
    "    print(k)"
   ]
  },
  {
   "cell_type": "markdown",
   "id": "66a4f073",
   "metadata": {},
   "source": [
    "## Overlap Studies 交疊研究"
   ]
  },
  {
   "cell_type": "markdown",
   "id": "64375176",
   "metadata": {},
   "source": [
    "### BBANDS - Bollinger Bands 布林通道"
   ]
  },
  {
   "cell_type": "markdown",
   "id": "115c9562",
   "metadata": {},
   "source": [
    "金融市場中用於判斷價格「進、出場時機」的技術指標，在納入平均值、標準差的概念之後，進而找出市場的價格突破點、反轉點之指標。\n",
    "\n",
    "\n",
    "* 通道上軌 = 通道中線 + 2個標準差 (股價壓力線)\n",
    "\n",
    "* 通道中軌 = 採用5ma移動均線 (平均成本)\n",
    "\n",
    "* 通道下軌 = 通道中線 - 2個標準差 (股價支撐線)\n",
    "\n",
    "* 帶寬(通道空間) = (上軌-下軌)/中軌\n",
    "\n",
    "布林通道是結合了移動平均線，以及統計學上的標準差概念所組成的技術指標。\n",
    "\n",
    "\n",
    "布林通道的概念是認為價格有很大機率落在通道中間，因此衍生出3種多頭訊號、2種空頭訊號\n",
    "\n",
    "**多頭訊號:**\n",
    "\n",
    "* K線自下而上攻擊，穿越下軌線時是買進訊號\n",
    "\n",
    "* K線自下而上攻擊，穿越中間線時股價可能加速向上，是加碼買進訊號\n",
    "\n",
    "* K線落在中軌與上軌之間，且仍為多頭向上趨勢可繼續做多\n",
    "\n",
    "\n",
    "**空頭訊號:**\n",
    "\n",
    "* K線落在中軌與上軌之間，並自上而下摜破中軌，是賣出訊號\n",
    "\n",
    "* K線落在中軌與下軌之間，且仍為空頭向上趨勢，可繼續做空\n",
    "\n",
    "\n",
    "#### #進階使用#\n",
    "\n",
    "布林通道的形態考量，就是考慮布林通道三條軌道線所構成的不同型態，基本上共分成：同向和異向 2 種主要型態。\n",
    "\n",
    "* 同向型態包括：三軌向上移動、三軌向下移動、三軌水準間運行。\n",
    "\n",
    "* 異向型態包括：三軌張口、三軌收口、張口型喇叭口、收口型喇叭口、緊口型喇叭口。\n",
    "\n",
    "**三軌向上移動**\n",
    "\n",
    "布林通道同時上移且在一定時間內維持，這一般是預示多頭力量穩健，盤面將穩定上漲，且期間回檔較淺。\n",
    "\n",
    "**三軌向下移動**\n",
    "\n",
    "布林通道同時下移且在一定時間內維持，預示空頭力量較為穩健，盤面逐步下跌，反彈也會較弱。\n",
    "\n",
    "**三軌水準間運行**\n",
    "\n",
    "布林通道水準指向最簡單，參數為 (20,2) 時，這表示盤面將進行狹幅震盪，盤面連區間波段交易的機會都幾乎沒有，因為獲利空間太小，故此種情況下，只能以觀望盤勢為主。\n",
    "\n",
    "**三軌張口**\n",
    "\n",
    "布林通道在一般情況下的張口，不會伴隨出現大陽線或大陰線，張口程度相對有限，而**這是短期情緒的小爆發**，但不極端，隨後一般伴隨一小段漲幅或跌幅，而走勢不會太快。\n",
    "\n",
    "一般布林通道張口後，可以看作是上漲或下跌趨勢打開的訊號。\n",
    "\n",
    "**三軌收口**\n",
    "\n",
    "布林通報一般情況的三軌收口出現時，**盤面容易進入盤整**，故基本上，只要布林通道維持收口形態，就得持續等待新的方向出現，等張口或是等後續出現三軌向上移動或三軌向下移動，這就是給新的短期方向選擇。\n",
    "\n",
    "**張口型喇叭口**\n",
    "\n",
    "布林通道的「張口型喇叭口」一向為交易者所重視，因此種型態出現時並不好做交易，因對應到的可能是極端行情。\n",
    "\n",
    "布林通道的「張口型喇叭口」出現時，通常是短期市場情緒急劇爆發，並伴隨盤面大幅波動，但布林通道「張口型喇叭口」型態無法在行情啟動前發出信號，也就是說，等「張口型喇叭口」出現時，盤面行情可能已經走掉大半部分，這對交易者來說訊號出現時常常已經太晚。\n",
    "\n",
    "**收口型喇叭口**\n",
    "\n",
    "「收口型喇叭口」常常緊跟出現在「張口型喇叭口」之後，這是對應極端行情出現後的修正階段，本質無異於上述收口形態，亦不建議操作。\n",
    "\n",
    "**緊口型喇叭口**\n",
    "\n",
    "此種型態較為少見，是本來預示盤整的「三軌水準運行」的布林通道，卻突然收窄寬度，向彈簧一樣瞬間壓縮，為後續情緒爆發做準備，但在何時、何位置爆發較難掌握。\n",
    "\n",
    "整體來說，將布林通道的張口或收口作為市場情緒波動的信號，能確認行情打開，以此來輔助入場。\n",
    "\n",
    "\n",
    "**缺點與技術限制**\n",
    "\n",
    "任何一項指標皆有缺點以及技術限制，而布林通道的缺點即在於，如果使用的均線週期過短、且價格短期波動劇烈的話，那麼通道的帶寬變化即會很大。\n",
    "\n",
    "布林通道的技術限制則在於，如果當日開盤出現跳空大漲或大跌之市況，即會造成通道的帶寬突然放大，故而使得這段期間的通道喪失參考價值，這屬於布林通道上的先天限制。"
   ]
  },
  {
   "cell_type": "code",
   "execution_count": 71,
   "id": "be321a9e",
   "metadata": {},
   "outputs": [],
   "source": [
    "# 20日均線、2被標準差\n",
    "upperband,middleband,lowerband = talib.BBANDS(data.Close,timeperiod=20,nbdevup=2,nbdevdn=2,matype=0)"
   ]
  },
  {
   "cell_type": "code",
   "execution_count": 73,
   "id": "a1a5cd31",
   "metadata": {},
   "outputs": [
    {
     "data": {
      "image/png": "[encoded data removed]",
      "text/plain": [
       "<Figure size 720x432 with 1 Axes>"
      ]
     },
     "metadata": {},
     "output_type": "display_data"
    }
   ],
   "source": [
    "start= '2023-01-01'\n",
    "end = '2023-10-06'\n",
    "plt.figure(figsize=(10,6))\n",
    "\n",
    "plt.plot(upperband[start:end],\n",
    "         label=\"upperband\",color='r',\n",
    "         linestyle='solid')\n",
    "plt.plot(middleband[start:end],\n",
    "         label=\"middleband\",color='g',linestyle='solid')\n",
    "plt.plot(lowerband[start:end],\n",
    "         label=\"lowerband\",color='b',\n",
    "         linestyle='solid')\n",
    "plt.title(\"2330 Bollinger Band Chart\") \n",
    "plt.xlabel(\"Day\") \n",
    "plt.ylabel(\"Bollinger Band\")\n",
    "plt.show()"
   ]
  },
  {
   "cell_type": "code",
   "execution_count": 74,
   "id": "17601590",
   "metadata": {},
   "outputs": [],
   "source": [
    "# 計算帶寬\n",
    "space = (upperband-lowerband)/middleband"
   ]
  },
  {
   "cell_type": "code",
   "execution_count": 75,
   "id": "4393a629",
   "metadata": {},
   "outputs": [
    {
     "data": {
      "text/plain": [
       "<AxesSubplot:xlabel='Date'>"
      ]
     },
     "execution_count": 75,
     "metadata": {},
     "output_type": "execute_result"
    },
    {
     "data": {
      "image/png": "[encoded data removed]",
      "text/plain": [
       "<Figure size 720x432 with 1 Axes>"
      ]
     },
     "metadata": {},
     "output_type": "display_data"
    }
   ],
   "source": [
    "space.plot(figsize=(10,6))"
   ]
  },
  {
   "cell_type": "markdown",
   "id": "77e3039f",
   "metadata": {},
   "source": [
    "### DEMA - Double Exponential Moving Average 雙指數移動平均線"
   ]
  },
  {
   "cell_type": "markdown",
   "id": "6dc0c058",
   "metadata": {},
   "source": [
    "雙指數移動平均線(DEMA)是由Patrick Mulloy發明的，目的是為了減少延遲和增加反應能力。這種快速移動平均線**允許交易者快速發現趨勢逆轉**，從而更好地進入新形成的趨勢。該指標顯然是基於指數移動平均線(EMA)但它更貼近價格。它的計算和使用有點像船體移動平均線(HMA)。它幫助交易者發現當前的趨勢，並經常與其他信號和分析技術結合使用。"
   ]
  },
  {
   "cell_type": "code",
   "execution_count": 87,
   "id": "8b0d16b4",
   "metadata": {},
   "outputs": [
    {
     "data": {
      "text/plain": [
       "Date\n",
       "2000-01-04 00:00:00+08:00           NaN\n",
       "2000-01-05 00:00:00+08:00           NaN\n",
       "2000-01-06 00:00:00+08:00           NaN\n",
       "2000-01-07 00:00:00+08:00           NaN\n",
       "2000-01-10 00:00:00+08:00           NaN\n",
       "                                ...    \n",
       "2023-10-02 00:00:00+08:00    540.666119\n",
       "2023-10-03 00:00:00+08:00    539.840133\n",
       "2023-10-04 00:00:00+08:00    538.475279\n",
       "2023-10-05 00:00:00+08:00    537.694587\n",
       "2023-10-06 00:00:00+08:00    537.211822\n",
       "Length: 5926, dtype: float64"
      ]
     },
     "execution_count": 87,
     "metadata": {},
     "output_type": "execute_result"
    }
   ],
   "source": [
    "# 使用60日均線\n",
    "dema = talib.DEMA(data['Close'],timeperiod=60)\n",
    "dema"
   ]
  },
  {
   "cell_type": "code",
   "execution_count": 88,
   "id": "340fa5b7",
   "metadata": {},
   "outputs": [
    {
     "data": {
      "image/png": "[encoded data removed]",
      "text/plain": [
       "<Figure size 1440x864 with 1 Axes>"
      ]
     },
     "metadata": {},
     "output_type": "display_data"
    }
   ],
   "source": [
    "plt.figure(figsize=(20,12))\n",
    "plt.plot(data['Close'],color='gray',linestyle='solid')\n",
    "plt.plot(dema,color='red',linestyle='--')\n",
    "plt.show()"
   ]
  },
  {
   "cell_type": "markdown",
   "id": "5fcbee85",
   "metadata": {},
   "source": [
    "### EMA - Exponential Moving Average 指數移動平均線"
   ]
  },
  {
   "cell_type": "markdown",
   "id": "68a21165",
   "metadata": {},
   "source": [
    "指數平滑移動平均線是將所有的數據都列為計算對象，其特徵是將較早的數據也納入計算，然後繼續加入新的數據。\n",
    "\n",
    "同時，最近的數值會以2倍計算，因此廣義上算是加權移動平均線的一種。\n",
    "\n",
    "指數平滑移動平均線的初始值計算方法與簡單移動平均相同，也就是將n日間的收盤價的合計除以n算出。\n",
    "\n",
    "然後從第2日起，以前一日的EMA+平滑化常數α×（當日收盤價-前日EMA）算出。此外，平滑化常數為α＝2÷（n+1）。\n",
    "\n",
    "使用此平滑化常數計算，比重就會呈現指數函數性的衰減。\n",
    "\n",
    "以所有數據乘以指數函數性衰減的指數平滑移動平均線所顯示的變動較為平滑。\n"
   ]
  },
  {
   "cell_type": "code",
   "execution_count": 90,
   "id": "4ab6a87a",
   "metadata": {},
   "outputs": [
    {
     "data": {
      "text/plain": [
       "Date\n",
       "2000-01-04 00:00:00+08:00           NaN\n",
       "2000-01-05 00:00:00+08:00           NaN\n",
       "2000-01-06 00:00:00+08:00           NaN\n",
       "2000-01-07 00:00:00+08:00           NaN\n",
       "2000-01-10 00:00:00+08:00           NaN\n",
       "                                ...    \n",
       "2023-10-02 00:00:00+08:00    542.984996\n",
       "2023-10-03 00:00:00+08:00    542.526472\n",
       "2023-10-04 00:00:00+08:00    541.787899\n",
       "2023-10-05 00:00:00+08:00    541.335837\n",
       "2023-10-06 00:00:00+08:00    541.029744\n",
       "Length: 5926, dtype: float64"
      ]
     },
     "execution_count": 90,
     "metadata": {},
     "output_type": "execute_result"
    }
   ],
   "source": [
    "# 使用60日均線\n",
    "ema = talib.EMA(data['Close'],timeperiod=60)\n",
    "ema"
   ]
  },
  {
   "cell_type": "code",
   "execution_count": 91,
   "id": "64c6d853",
   "metadata": {},
   "outputs": [
    {
     "data": {
      "image/png": "[encoded data removed]",
      "text/plain": [
       "<Figure size 1440x864 with 1 Axes>"
      ]
     },
     "metadata": {},
     "output_type": "display_data"
    }
   ],
   "source": [
    "plt.figure(figsize=(20,12))\n",
    "plt.plot(data['Close'],color='gray',linestyle='solid')\n",
    "plt.plot(dema,color='red',linestyle='--')\n",
    "plt.show()"
   ]
  },
  {
   "cell_type": "markdown",
   "id": "ccc09fdf",
   "metadata": {},
   "source": [
    "### HT_TRENDLINE - Hilbert Transform-Instantaneous Trendline 希爾伯特瞬時轉換"
   ]
  },
  {
   "cell_type": "markdown",
   "id": "e004473e",
   "metadata": {},
   "source": [
    "希爾伯特-黃轉換（Hilbert-Huang Transform），由台灣中央研究院院士黃鍔（Norden E. Huang）等人提出，將欲分析數據分解為本質模態函數（intrinsic mode functions, IMF），這樣的分解流程稱為經驗模態分解（Empirical Mode Decomposition, EMD）的方法。然後將IMF作希爾伯特轉換（Hilbert Transform），正確地獲得資料的瞬時頻率。此方法處理對象乃針對非穩態與非線性訊號。與其他數學轉換運算（如傅立葉變換）不同，希爾伯特-黃轉換算是一種應用在數據資料上的演算法，而非理論工具。\n"
   ]
  },
  {
   "cell_type": "code",
   "execution_count": 93,
   "id": "ee585163",
   "metadata": {},
   "outputs": [],
   "source": [
    "trendline = talib.HT_TRENDLINE(data['Close'])"
   ]
  },
  {
   "cell_type": "code",
   "execution_count": 94,
   "id": "2f366842",
   "metadata": {},
   "outputs": [
    {
     "data": {
      "text/plain": [
       "Date\n",
       "2000-01-04 00:00:00+08:00           NaN\n",
       "2000-01-05 00:00:00+08:00           NaN\n",
       "2000-01-06 00:00:00+08:00           NaN\n",
       "2000-01-07 00:00:00+08:00           NaN\n",
       "2000-01-10 00:00:00+08:00           NaN\n",
       "                                ...    \n",
       "2023-10-02 00:00:00+08:00    536.969920\n",
       "2023-10-03 00:00:00+08:00    535.671639\n",
       "2023-10-04 00:00:00+08:00    534.239130\n",
       "2023-10-05 00:00:00+08:00    533.157289\n",
       "2023-10-06 00:00:00+08:00    532.187181\n",
       "Length: 5926, dtype: float64"
      ]
     },
     "execution_count": 94,
     "metadata": {},
     "output_type": "execute_result"
    }
   ],
   "source": [
    "trendline"
   ]
  },
  {
   "cell_type": "code",
   "execution_count": 95,
   "id": "ddc2756c",
   "metadata": {},
   "outputs": [
    {
     "data": {
      "text/plain": [
       "<AxesSubplot:xlabel='Date'>"
      ]
     },
     "execution_count": 95,
     "metadata": {},
     "output_type": "execute_result"
    },
    {
     "data": {
      "image/png": "[encoded data removed]",
      "text/plain": [
       "<Figure size 720x432 with 1 Axes>"
      ]
     },
     "metadata": {},
     "output_type": "display_data"
    }
   ],
   "source": [
    "trendline.plot(figsize=(10,6))"
   ]
  },
  {
   "cell_type": "markdown",
   "id": "b520d481",
   "metadata": {},
   "source": [
    "### KAMA - Kaufman Adaptive Moving Average 考夫曼自適應性移動平均線"
   ]
  },
  {
   "cell_type": "markdown",
   "id": "d039d174",
   "metadata": {},
   "source": [
    "### MA Moving Average 移動平均線"
   ]
  },
  {
   "cell_type": "markdown",
   "id": "13fdd7c1",
   "metadata": {},
   "source": [
    "### MAMA - MESA Adaptive Moving Average MESA 自適應性移動平均線"
   ]
  },
  {
   "cell_type": "markdown",
   "id": "1da22ed8",
   "metadata": {},
   "source": [
    "#### MESA-Maximum Entropy Spectrum Analysis 最大熵譜分析方法"
   ]
  },
  {
   "cell_type": "markdown",
   "id": "65d0e650",
   "metadata": {},
   "source": [
    "### MAVP - Moving average with variable period "
   ]
  },
  {
   "cell_type": "markdown",
   "id": "ab66d5ed",
   "metadata": {},
   "source": [
    "### MIDPOINT - MidPoint over period"
   ]
  },
  {
   "cell_type": "markdown",
   "id": "08eac0a5",
   "metadata": {},
   "source": [
    "### MIDPRICE - MidPoint Price over period"
   ]
  },
  {
   "cell_type": "markdown",
   "id": "99802c87",
   "metadata": {},
   "source": [
    "### SAR - Parabolic SAR 拋物線停損點轉向指標"
   ]
  },
  {
   "cell_type": "markdown",
   "id": "3a425df3",
   "metadata": {},
   "source": [
    "### SAREXT - Parabolic SAR  Extended"
   ]
  },
  {
   "cell_type": "markdown",
   "id": "3bbc32f3",
   "metadata": {},
   "source": [
    "### T3 - Triple Exponential Moving Average(T3) T3移動均線 "
   ]
  },
  {
   "cell_type": "markdown",
   "id": "f8297cb2",
   "metadata": {},
   "source": [
    "### TEMA - Triple Exponential Moving Average 3重移動指數平均線"
   ]
  },
  {
   "cell_type": "markdown",
   "id": "9b156bc9",
   "metadata": {},
   "source": [
    "### TRIMA - Triangular Moving Average  三角移動平均線"
   ]
  },
  {
   "cell_type": "markdown",
   "id": "ca7a6dab",
   "metadata": {},
   "source": [
    "### WMA Weighted Movnig Average 加權移動均線"
   ]
  },
  {
   "cell_type": "markdown",
   "id": "70dd6e71",
   "metadata": {},
   "source": [
    " "
   ]
  },
  {
   "cell_type": "markdown",
   "id": "91bad402",
   "metadata": {},
   "source": [
    "## Momentum Indicators 動量指標"
   ]
  },
  {
   "cell_type": "markdown",
   "id": "ed94c416",
   "metadata": {},
   "source": [
    "### ADX - Average Directional Movement Index 平均趨勢指數"
   ]
  },
  {
   "cell_type": "markdown",
   "id": "c3cbb483",
   "metadata": {},
   "source": [
    "### ADXR - Average Directional Movement Index Rating"
   ]
  },
  {
   "cell_type": "markdown",
   "id": "385ef519",
   "metadata": {},
   "source": [
    "### APO - Absolute Price Oscillator 價格絕對振盪器"
   ]
  },
  {
   "cell_type": "markdown",
   "id": "f06fe5ab",
   "metadata": {},
   "source": [
    "### AROON - Aroon 阿隆指標"
   ]
  },
  {
   "cell_type": "markdown",
   "id": "85fa5b37",
   "metadata": {},
   "source": [
    "### AROONOSC - Aroon Oscillator 阿隆振盪"
   ]
  },
  {
   "cell_type": "markdown",
   "id": "b57e4eb4",
   "metadata": {},
   "source": [
    "### BOP - Balance Of Power 權力平衡"
   ]
  },
  {
   "cell_type": "markdown",
   "id": "772af580",
   "metadata": {},
   "source": [
    "### CCI - Commodity Channel Index 順勢指標"
   ]
  },
  {
   "cell_type": "markdown",
   "id": "b254e0b8",
   "metadata": {},
   "source": [
    "### CMO - Cande Momentum Oscillator 錢德動量振盪指標"
   ]
  },
  {
   "cell_type": "markdown",
   "id": "b4bbcc4e",
   "metadata": {},
   "source": [
    "### DX - Directional Movement Index 趨勢指標"
   ]
  },
  {
   "cell_type": "markdown",
   "id": "da22cca7",
   "metadata": {},
   "source": [
    "### MACD - Moving Average Convergence/Divergence 平滑異同移動平均線指標"
   ]
  },
  {
   "cell_type": "markdown",
   "id": "b89da9af",
   "metadata": {},
   "source": [
    "### MACDEXT - MACD with controllable MA type"
   ]
  },
  {
   "cell_type": "markdown",
   "id": "95e17f7d",
   "metadata": {},
   "source": [
    "### MACDFIX - Moving Average Convergence/Divergence Fix 12/26"
   ]
  },
  {
   "cell_type": "markdown",
   "id": "db6a93eb",
   "metadata": {},
   "source": [
    "### MFI - Money Flow Index 資金流量指標"
   ]
  },
  {
   "cell_type": "markdown",
   "id": "28d71d95",
   "metadata": {},
   "source": [
    "### MINUS_DI - Minus Directional Indicator 下升動向值"
   ]
  },
  {
   "cell_type": "markdown",
   "id": "843cc599",
   "metadata": {},
   "source": [
    "### MINUS_DM - Minus Directional Movement 下升動量"
   ]
  },
  {
   "cell_type": "markdown",
   "id": "43bb3337",
   "metadata": {},
   "source": [
    "### MOM - Momentum 動量"
   ]
  },
  {
   "cell_type": "markdown",
   "id": "f3a04ec9",
   "metadata": {},
   "source": [
    "### PLUS_DI - Plus Directional Indicator 上升動向值"
   ]
  },
  {
   "cell_type": "markdown",
   "id": "55816b0c",
   "metadata": {},
   "source": [
    "### PLUS_DM - Plus Directional Movement 上升動量"
   ]
  },
  {
   "cell_type": "markdown",
   "id": "1edd71f2",
   "metadata": {},
   "source": [
    "### PPO - Percentage Price Oscillator 價格振盪指標"
   ]
  },
  {
   "cell_type": "markdown",
   "id": "e000cad9",
   "metadata": {},
   "source": [
    "### ROC - Rate of change: ((price/prevPrice)-1)*100 價格變動率"
   ]
  },
  {
   "cell_type": "markdown",
   "id": "84339c20",
   "metadata": {},
   "source": [
    "### ROCP - Rate of change Percentage: (price/prevPrice)/prevPrice"
   ]
  },
  {
   "cell_type": "markdown",
   "id": "7094a29d",
   "metadata": {},
   "source": [
    "### ROCR - Rate of change ratio: (price/prevPrice)"
   ]
  },
  {
   "cell_type": "markdown",
   "id": "28462880",
   "metadata": {},
   "source": [
    "### ROCR100 - Rate of change ratio 100 scale: (price/prevPrice)*100"
   ]
  },
  {
   "cell_type": "markdown",
   "id": "ca62d19b",
   "metadata": {},
   "source": [
    "### RSI - Relative Strength Index 相對強弱指標"
   ]
  },
  {
   "cell_type": "markdown",
   "id": "4170a5ad",
   "metadata": {},
   "source": [
    "### STOCH - Stochastic 隨機指數"
   ]
  },
  {
   "cell_type": "markdown",
   "id": "6817cbaa",
   "metadata": {},
   "source": [
    "### STOCHF - Stochastic Fast 隨機快步"
   ]
  },
  {
   "cell_type": "markdown",
   "id": "b1a5d0ef",
   "metadata": {},
   "source": [
    "### STOCHRSI - Stochastic Relative Strength Index 隨機相對強弱指標 "
   ]
  },
  {
   "cell_type": "markdown",
   "id": "c691096e",
   "metadata": {},
   "source": [
    "### TRIX - 1-day Rate-Of-Change(ROC) of a Triple Smooth EMA"
   ]
  },
  {
   "cell_type": "markdown",
   "id": "94033336",
   "metadata": {},
   "source": [
    "### ULTOSC - Ultimate Oscillator 終極指標"
   ]
  },
  {
   "cell_type": "markdown",
   "id": "17fbf838",
   "metadata": {},
   "source": [
    "### WILLR - Williams' %R 威廉指標"
   ]
  },
  {
   "cell_type": "markdown",
   "id": "785b568e",
   "metadata": {},
   "source": [
    " "
   ]
  },
  {
   "cell_type": "markdown",
   "id": "776bfe30",
   "metadata": {},
   "source": [
    "## Volume Indicators 成交量指標"
   ]
  },
  {
   "cell_type": "markdown",
   "id": "41823ed0",
   "metadata": {},
   "source": [
    "### AD - Chaikin Accumulation/Distribution(A/D) Line 蔡金累積/派發線"
   ]
  },
  {
   "cell_type": "markdown",
   "id": "2a498b75",
   "metadata": {},
   "source": [
    "### ADOSC - Chaikin Accumulation/Distribution(A/D) Oscillator 蔡金振盪指標"
   ]
  },
  {
   "cell_type": "markdown",
   "id": "f693dad3",
   "metadata": {},
   "source": [
    "### OBV - On Balance Volume 能量潮指標"
   ]
  },
  {
   "cell_type": "markdown",
   "id": "9bfe1068",
   "metadata": {},
   "source": [
    " "
   ]
  },
  {
   "cell_type": "markdown",
   "id": "c37ced65",
   "metadata": {},
   "source": [
    "## Cycle Indicators 週期指標"
   ]
  },
  {
   "cell_type": "markdown",
   "id": "390437ba",
   "metadata": {},
   "source": [
    "### HT_DCPERIOD - Hilbert Transform - Dominant Cycle Period 希爾伯特變換-主導週期"
   ]
  },
  {
   "cell_type": "markdown",
   "id": "ee9f40ac",
   "metadata": {},
   "source": [
    "### HT_DCPHASE - Hilbert Transform - Dominant Cycle Phase 希爾伯特變換-主導循環階段"
   ]
  },
  {
   "cell_type": "markdown",
   "id": "31bfc084",
   "metadata": {},
   "source": [
    "### HT_PHASOR - Hilbert Transform - Phasor Components 希爾伯特變換-相量分量"
   ]
  },
  {
   "cell_type": "markdown",
   "id": "2e3f996a",
   "metadata": {},
   "source": [
    "### HT_SINE - Hilbert Transform - SineWave 希爾伯特變換-正弦波"
   ]
  },
  {
   "cell_type": "markdown",
   "id": "8f6700f2",
   "metadata": {},
   "source": [
    "### HT_TRENDMODE - Hilbert Transform - Trend vs Cycle Mode 希爾伯特變換-趨勢與週期模式"
   ]
  },
  {
   "cell_type": "markdown",
   "id": "7b3dc5bb",
   "metadata": {},
   "source": [
    " "
   ]
  },
  {
   "cell_type": "markdown",
   "id": "d966218e",
   "metadata": {},
   "source": [
    "## Price Transform 價格轉換"
   ]
  },
  {
   "cell_type": "markdown",
   "id": "5daa9f86",
   "metadata": {},
   "source": [
    "### AVGPRICE - Average Price 平均價格"
   ]
  },
  {
   "cell_type": "markdown",
   "id": "a304ab5a",
   "metadata": {},
   "source": [
    "### MEDPRICE - Median Price 中位數價格"
   ]
  },
  {
   "cell_type": "markdown",
   "id": "28f1dbca",
   "metadata": {},
   "source": [
    "### TYPPRICE - Typical Price 一般價格"
   ]
  },
  {
   "cell_type": "markdown",
   "id": "2c611ebf",
   "metadata": {},
   "source": [
    "### WCLPRICE - Weighted Close Price 加權收盤價"
   ]
  },
  {
   "cell_type": "markdown",
   "id": "afc1f88c",
   "metadata": {},
   "source": [
    " "
   ]
  },
  {
   "cell_type": "markdown",
   "id": "7da8df18",
   "metadata": {},
   "source": [
    "## Volatility Indicators 波動率指數"
   ]
  },
  {
   "cell_type": "markdown",
   "id": "7582202a",
   "metadata": {},
   "source": [
    "### ATR - Average True Range ATR(真實波幅均值)指標"
   ]
  },
  {
   "cell_type": "markdown",
   "id": "5df41db3",
   "metadata": {},
   "source": [
    "### NATR - Normalized Average True Range"
   ]
  },
  {
   "cell_type": "markdown",
   "id": "325b0ead",
   "metadata": {},
   "source": [
    "### TRANGE - True Range 真實區域"
   ]
  },
  {
   "cell_type": "markdown",
   "id": "5fc6ef0c",
   "metadata": {},
   "source": [
    " "
   ]
  },
  {
   "cell_type": "markdown",
   "id": "7ba37f08",
   "metadata": {},
   "source": [
    "## Pattern Recognition 圖形識別"
   ]
  },
  {
   "cell_type": "markdown",
   "id": "46f20c1d",
   "metadata": {},
   "source": [
    "### CDL2CROWS - Two Crows 雙飛烏鴉"
   ]
  },
  {
   "cell_type": "markdown",
   "id": "cbf3ca5e",
   "metadata": {},
   "source": [
    "### CDL3BLACKCROWS - Three Black Crows 三隻烏鴉"
   ]
  },
  {
   "cell_type": "markdown",
   "id": "0b4228c4",
   "metadata": {},
   "source": [
    "### CDL3INSIDE - Three Inside Up/Down 三內向上/下"
   ]
  },
  {
   "cell_type": "markdown",
   "id": "09b54539",
   "metadata": {},
   "source": [
    "### CDL3LINESTRIKE - Three-Line Strike 三線打擊"
   ]
  },
  {
   "cell_type": "markdown",
   "id": "99a06ade",
   "metadata": {},
   "source": [
    "### CDL3OUTSIDE - Three Outside Up/Down 三外向上/下"
   ]
  },
  {
   "cell_type": "markdown",
   "id": "b7b527a7",
   "metadata": {},
   "source": [
    "### CDL3STARSINSOUTH - Three Stars In The South "
   ]
  },
  {
   "cell_type": "markdown",
   "id": "3680ceaf",
   "metadata": {},
   "source": [
    "### CDLABANDONEDBABY - Abandoned Baby 棄嬰"
   ]
  },
  {
   "cell_type": "markdown",
   "id": "63a36e2e",
   "metadata": {},
   "source": [
    "### CDLADVANCEBLOCK - Advance Block 大敵當前"
   ]
  },
  {
   "cell_type": "markdown",
   "id": "0b055d3d",
   "metadata": {},
   "source": [
    "### CDLBELTHOLD - Belt-hold 執帶"
   ]
  },
  {
   "cell_type": "markdown",
   "id": "e9f3694f",
   "metadata": {},
   "source": [
    "### CDLBREAKAWAY - Breakaway 突破缺口"
   ]
  },
  {
   "cell_type": "markdown",
   "id": "b38e8614",
   "metadata": {},
   "source": [
    "### CDLCLOSINGMARUBOZU - Closing Marubozu 光頭光腳 (收盤)"
   ]
  },
  {
   "cell_type": "markdown",
   "id": "7251aec7",
   "metadata": {},
   "source": [
    "### CDLCONCEALBABYSWALL - Concealing Baby Swallow 藏嬰吞沒"
   ]
  },
  {
   "cell_type": "markdown",
   "id": "aaa844c2",
   "metadata": {},
   "source": [
    "### CDLDARKCLOUDCOVER - Dark Cloud Cover 烏雲罩頂"
   ]
  },
  {
   "cell_type": "markdown",
   "id": "c27d20d5",
   "metadata": {},
   "source": [
    "### CDLDOJI - Doji 十字"
   ]
  },
  {
   "cell_type": "markdown",
   "id": "b02e6605",
   "metadata": {},
   "source": [
    "### CDLDOJISTAR - Doji Star 十字星"
   ]
  },
  {
   "cell_type": "markdown",
   "id": "8a913bce",
   "metadata": {},
   "source": [
    "### CDLDRAGONFLYDOJI - Dragonfly Doji 蜻蜓十字"
   ]
  },
  {
   "cell_type": "markdown",
   "id": "132d3259",
   "metadata": {},
   "source": [
    "### CDLENGULFING - Engulfing Pattern 吞噬型態"
   ]
  },
  {
   "cell_type": "markdown",
   "id": "2dd0446b",
   "metadata": {},
   "source": [
    "### CDLEVENINGDOJISTAR - Evening Doji Star 黃昏之星"
   ]
  },
  {
   "cell_type": "markdown",
   "id": "353a5d83",
   "metadata": {},
   "source": [
    "### CDLGAPSIDESIDEWHITE - Up/Down-gap side-by-side white lines 向上/下跳空並列陽線"
   ]
  },
  {
   "cell_type": "markdown",
   "id": "683c3600",
   "metadata": {},
   "source": [
    "### CDLGRAVESTONEDOJI - Gravestone Doji 墓碑十字"
   ]
  },
  {
   "cell_type": "markdown",
   "id": "1276f4b6",
   "metadata": {},
   "source": [
    "### CDLHAMMER - Hammer 錘型線"
   ]
  },
  {
   "cell_type": "markdown",
   "id": "adde56b9",
   "metadata": {},
   "source": [
    "### CDLHANGINGMAN - Hanging Man 上吊線"
   ]
  },
  {
   "cell_type": "markdown",
   "id": "c97802f7",
   "metadata": {},
   "source": [
    "### CDLHARAMI - Harami Pattern 身懷六甲型態"
   ]
  },
  {
   "cell_type": "markdown",
   "id": "8ba57f6f",
   "metadata": {},
   "source": [
    "### CDLHARAMICROSS - Harami Cross Pattern 十字胎型態"
   ]
  },
  {
   "cell_type": "markdown",
   "id": "53098491",
   "metadata": {},
   "source": [
    "### CDLHIGHWAVE - High-Wave Candle 高浪線"
   ]
  },
  {
   "cell_type": "markdown",
   "id": "d9f415a2",
   "metadata": {},
   "source": [
    "### CDLHIKKAKE - Hikkake Pattern 徒步圖案"
   ]
  },
  {
   "cell_type": "markdown",
   "id": "f29b0372",
   "metadata": {},
   "source": [
    "### CDLHIKKAKEMOD - Modified Hikkake Pattern"
   ]
  },
  {
   "cell_type": "markdown",
   "id": "82c08afb",
   "metadata": {},
   "source": [
    "### CDLHOMINGPIGEON - Homing Pigeon 飛鴿歸巢"
   ]
  },
  {
   "cell_type": "markdown",
   "id": "237ca47d",
   "metadata": {},
   "source": [
    "### CDLIDENTICAL3CROWS - Identical Three Crows"
   ]
  },
  {
   "cell_type": "markdown",
   "id": "08fed1ec",
   "metadata": {},
   "source": [
    "### CDLINNECK - In-Neck Pattern 頸線內"
   ]
  },
  {
   "cell_type": "markdown",
   "id": "e70d1470",
   "metadata": {},
   "source": [
    "### CDLINVERTEDHAMMER - Inverted Hammer 倒錘型圖"
   ]
  },
  {
   "cell_type": "markdown",
   "id": "0d16b6ae",
   "metadata": {},
   "source": [
    "### CDLKICKING - Kicking"
   ]
  },
  {
   "cell_type": "markdown",
   "id": "d66e247a",
   "metadata": {},
   "source": [
    "### CDLKICKINGBYLENGTH - Kicking - bull/bear determined by the longer marubozu"
   ]
  },
  {
   "cell_type": "markdown",
   "id": "c094c344",
   "metadata": {},
   "source": [
    "### CDLLADDERBOTTOM - Ladder Bottom 梯底"
   ]
  },
  {
   "cell_type": "markdown",
   "id": "ddacc878",
   "metadata": {},
   "source": [
    "### CDLLONGLEGGEDDOJI - Long Legged Doji 長腳十字"
   ]
  },
  {
   "cell_type": "markdown",
   "id": "44e8f982",
   "metadata": {},
   "source": [
    "### CDLLONGLINE - Long Line Candle"
   ]
  },
  {
   "cell_type": "markdown",
   "id": "f2848f60",
   "metadata": {},
   "source": [
    "### CDLMARUBOZU - Marubozu 光頭光腳"
   ]
  },
  {
   "cell_type": "markdown",
   "id": "21733239",
   "metadata": {},
   "source": [
    "### CDLMATCHINGLOW - Matching Low"
   ]
  },
  {
   "cell_type": "markdown",
   "id": "fc753ae9",
   "metadata": {},
   "source": [
    "### CDLMATHOLD - Mat Hold 執塾"
   ]
  },
  {
   "cell_type": "markdown",
   "id": "f25cb68f",
   "metadata": {},
   "source": [
    "### CDLMORNINGDOJISTAR - Morning Doji Star 早晨十字星"
   ]
  },
  {
   "cell_type": "markdown",
   "id": "5fc2163e",
   "metadata": {},
   "source": [
    "### CDLMORNINGSTAR - Morning Star 晨星"
   ]
  },
  {
   "cell_type": "markdown",
   "id": "fd27150d",
   "metadata": {},
   "source": [
    "### CDLONNECK - On-Neck Pattern 警線上"
   ]
  },
  {
   "cell_type": "markdown",
   "id": "d11c06d7",
   "metadata": {},
   "source": [
    "### CDLPIERCING - Piercing Pattern 穿刺線"
   ]
  },
  {
   "cell_type": "markdown",
   "id": "e3e43049",
   "metadata": {},
   "source": [
    "### CDLRICKSHAWMAN - Rickshaw Man 黃包車夫"
   ]
  },
  {
   "cell_type": "markdown",
   "id": "d08d225d",
   "metadata": {},
   "source": [
    "### CDLRISEFALL3METHODS - Rising/Falling Three Methods 上升/下降三法"
   ]
  },
  {
   "cell_type": "markdown",
   "id": "4e312533",
   "metadata": {},
   "source": [
    "### CDLSEPARATINGLINES - Separating Lines 隔離線"
   ]
  },
  {
   "cell_type": "markdown",
   "id": "597331d2",
   "metadata": {},
   "source": [
    "### CDLSHOOTINGSTAR - Shooting Star 流星型態"
   ]
  },
  {
   "cell_type": "markdown",
   "id": "25077c30",
   "metadata": {},
   "source": [
    "### CDLSHORTLINE - Short Line Candle"
   ]
  },
  {
   "cell_type": "markdown",
   "id": "c48a552f",
   "metadata": {},
   "source": [
    "### CDLSPINNINGTOP - Spinning Top 紡錘線"
   ]
  },
  {
   "cell_type": "markdown",
   "id": "7d0ea53a",
   "metadata": {},
   "source": [
    "### CDLSTALLEDPATTERN - Stalled Pattern 失速型態"
   ]
  },
  {
   "cell_type": "markdown",
   "id": "c9e66da0",
   "metadata": {},
   "source": [
    "### CDLSTICKSANDWICH - Stick Sandwich"
   ]
  },
  {
   "cell_type": "markdown",
   "id": "56733cc4",
   "metadata": {},
   "source": [
    "### CDLTAKURI - Takuri (Dragonfly Doji with very long lower shadow)"
   ]
  },
  {
   "cell_type": "markdown",
   "id": "f21ae7dc",
   "metadata": {},
   "source": [
    "### CDLTASUKIGAP - Tasuki Gap 肩帶缺口"
   ]
  },
  {
   "cell_type": "markdown",
   "id": "27996f61",
   "metadata": {},
   "source": [
    "### CDLTHRUSTING - Thrusting Pattern  趨勢逆轉"
   ]
  },
  {
   "cell_type": "markdown",
   "id": "a4a9bac4",
   "metadata": {},
   "source": [
    "### CDLTRISTAR - Tristar Pattern 三星型態"
   ]
  },
  {
   "cell_type": "markdown",
   "id": "b381953a",
   "metadata": {},
   "source": [
    "### CDLUNIQUE3RIVER - Unique 3 River 修正三河"
   ]
  },
  {
   "cell_type": "markdown",
   "id": "aa6d85dd",
   "metadata": {},
   "source": [
    "### CDLUPSIDEGAP2CROWS - Upside Gap Two Crows 雙鴉躍空"
   ]
  },
  {
   "cell_type": "markdown",
   "id": "fa2e2c25",
   "metadata": {},
   "source": [
    "### CDLXSIDEGAP3METHODS - Upside/Downside Gap Three Methods"
   ]
  },
  {
   "cell_type": "markdown",
   "id": "238e0d8f",
   "metadata": {},
   "source": [
    " "
   ]
  },
  {
   "cell_type": "markdown",
   "id": "00a246e6",
   "metadata": {},
   "source": [
    "## Statistic Functions 統計學指標"
   ]
  },
  {
   "cell_type": "markdown",
   "id": "f1cbbec0",
   "metadata": {},
   "source": [
    "### BETA - Beta"
   ]
  },
  {
   "cell_type": "markdown",
   "id": "75e261a5",
   "metadata": {},
   "source": [
    "### CORREL - Pearson積差相關係數(r)"
   ]
  },
  {
   "cell_type": "markdown",
   "id": "98d7985c",
   "metadata": {},
   "source": [
    "### LINEARREG - Linear Regression 線性迴歸"
   ]
  },
  {
   "cell_type": "markdown",
   "id": "1ce580b0",
   "metadata": {},
   "source": [
    "### LINEARREG_ANGLE - Linear Regression Angle"
   ]
  },
  {
   "cell_type": "markdown",
   "id": "27522beb",
   "metadata": {},
   "source": [
    "### LINEARREG_INTERCEPT - Linear Regression Intercept 線性回歸載距"
   ]
  },
  {
   "cell_type": "markdown",
   "id": "5fa0478f",
   "metadata": {},
   "source": [
    "### LINEARREG_SLOPE - Linear Regression Slope "
   ]
  },
  {
   "cell_type": "markdown",
   "id": "f4a14e78",
   "metadata": {},
   "source": [
    "### STDDEV - Standard Deviation 標準差"
   ]
  },
  {
   "cell_type": "markdown",
   "id": "f939b2d6",
   "metadata": {},
   "source": [
    "### TSF - Time Series Forecast 時間序列預測法"
   ]
  },
  {
   "cell_type": "markdown",
   "id": "51acae60",
   "metadata": {},
   "source": [
    "### VAR - Variance 變異數"
   ]
  }
 ],
 "metadata": {
  "kernelspec": {
   "display_name": "Python 3 (ipykernel)",
   "language": "python",
   "name": "python3"
  },
  "language_info": {
   "codemirror_mode": {
    "name": "ipython",
    "version": 3
   },
   "file_extension": ".py",
   "mimetype": "text/x-python",
   "name": "python",
   "nbconvert_exporter": "python",
   "pygments_lexer": "ipython3",
   "version": "3.8.12"
  }
 },
 "nbformat": 4,
 "nbformat_minor": 5
}
