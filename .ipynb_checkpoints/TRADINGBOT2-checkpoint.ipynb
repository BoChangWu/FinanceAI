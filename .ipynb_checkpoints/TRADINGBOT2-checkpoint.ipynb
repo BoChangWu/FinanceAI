{
 "cells": [
  {
   "cell_type": "markdown",
   "id": "cd9ee760",
   "metadata": {},
   "source": [
    "# 按不同的方法決定投資組合\n",
    "\n",
    "在**TRADINGBOT**中先是`yfinance.Ticker().info()`讀取每股盈餘、自由現金流、發行股數等資訊，這些資訊有助於長期投資，但缺點在於有些公司的資訊不夠完整，因此會遭到去除。這些被去除的股票很可能對短期操作有所幫助，且對短線來說只需要每日價格資料與交易量即可做技術分析判斷。\n",
    "\n",
    "以下將長期投資與短期操作完全分開，即從抓取資料、理資料"
   ]
  }
 ],
 "metadata": {
  "kernelspec": {
   "display_name": "Python 3 (ipykernel)",
   "language": "python",
   "name": "python3"
  },
  "language_info": {
   "codemirror_mode": {
    "name": "ipython",
    "version": 3
   },
   "file_extension": ".py",
   "mimetype": "text/x-python",
   "name": "python",
   "nbconvert_exporter": "python",
   "pygments_lexer": "ipython3",
   "version": "3.8.12"
  }
 },
 "nbformat": 4,
 "nbformat_minor": 5
}
