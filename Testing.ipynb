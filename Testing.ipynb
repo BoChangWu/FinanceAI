{
 "cells": [
  {
   "cell_type": "code",
   "execution_count": 1,
   "id": "017e5940",
   "metadata": {},
   "outputs": [],
   "source": [
    "from environment import FinanceStock\n",
    "from tradingbot import TradingBot,plot_treward,plot_performance,set_seeds\n",
    "from backtester import TBBacktesterRM"
   ]
  },
  {
   "cell_type": "code",
   "execution_count": 2,
   "id": "f689ea54",
   "metadata": {},
   "outputs": [],
   "source": [
    "symbols = ['2301.TW','2352.TW','2364.TW','2395.TW']\n",
    "# ['1720.TW','3010.TW','2308.TW','2471.TW']\n",
    "#['2207.TW','2376.TW','2377.TW','2314.TW']\n",
    "# ['2317.TW','2382.TW','2891.TW','2886.TW']\n",
    "# ['2347.TW','2353.TW','2356.TW','2357.TW']\n",
    "# [**'2409.TW',**'2393.TW','2498.TW','2882.TW']\n",
    "# ['2409.TW','2393.TW','3034.TW','3016.TW']\n",
    "#['2330.TW','2379.TW','2412.TW','2881.TW','3008.TW','2303.TW','2344.TW','2449.TW']\n",
    "features_fix = ['r','s','m','v']"
   ]
  },
  {
   "cell_type": "code",
   "execution_count": 3,
   "id": "02fd5ca8",
   "metadata": {},
   "outputs": [],
   "source": [
    "class FinEnv:\n",
    "    def __init__(self,symbols,features_fix,window=20,lags=3,leverage=1,episodes=61,split=0.6,valid=0.2,test=0.2):\n",
    "        self.symbols = symbols\n",
    "        self.features_fix = features_fix\n",
    "        self.window = window\n",
    "        self.lags = lags\n",
    "        self.leverage = leverage\n",
    "        self.episodes = episodes\n",
    "        self.start = 0\n",
    "        self.split = split\n",
    "        self.valid = valid\n",
    "        self.test = test \n",
    "        \n",
    "        self.l_envs = dict()\n",
    "        self.v_envs = dict()\n",
    "        self.t_envs = dict()\n",
    "        self.tradingbots = dict()\n",
    "        self.backtesters = dict()\n",
    "        \n",
    "        self._build_env()\n",
    "#         self._build_tradingbot()\n",
    "        \n",
    "    def _build_env(self):\n",
    "        \n",
    "        for symbol in self.symbols:\n",
    "            learn_env = FinanceStock(symbol,[symbol] + self.features_fix,window=self.window,lags=self.lags,leverage=self.leverage,min_performance=0.9,\n",
    "                         min_accuracy=0.475,start=self.start,end=self.split,mu=None,std=None)\n",
    "            \n",
    "            print(learn_env.data_)\n",
    "            self.l_envs[symbol] = learn_env\n",
    "    \n",
    "            self.v_envs[symbol] = FinanceStock(symbol,features=learn_env.features,window=learn_env.window,lags=learn_env.lags,\n",
    "                         leverage=learn_env.leverage,min_performance=0.0,min_accuracy=0.0,start=self.split,\n",
    "                         end=self.split+self.valid,mu=learn_env.mu,std=learn_env.std)\n",
    "\n",
    "            self.t_envs[symbol] = FinanceStock(symbol,features=learn_env.features,window=learn_env.window,lags=learn_env.lags,\n",
    "                         leverage=learn_env.leverage,min_performance=0.0,min_accuracy=0.0,start=self.split+self.valid,\n",
    "                         end=self.split+self.valid+self.test,mu=learn_env.mu,std=learn_env.std)\n",
    "            \n",
    "    \n",
    "    def _build_tradingbot(self):\n",
    "        \n",
    "        for symbol in self.symbols:\n",
    "            set_seeds(100)\n",
    "            self.tradingbots[symbol] = TradingBot(self.l_envs[symbol],self.v_envs[symbol])\n",
    "            self.tradingbots[symbol].learn(self.episodes)\n",
    "            \n",
    "            \n",
    "    def _get_tradingbot(self):\n",
    "        for symbol in self.symbols:\n",
    "            set_seeds(100)\n",
    "            self.tradingbots[symbol] = TradingBot(self.l_envs[symbol],self.v_envs[symbol])\n",
    "#             self.tradingbots[symbol].learn(self.episodes)"
   ]
  },
  {
   "cell_type": "code",
   "execution_count": 4,
   "id": "c1e9c334",
   "metadata": {},
   "outputs": [
    {
     "ename": "AttributeError",
     "evalue": "'str' object has no attribute 'copy'",
     "output_type": "error",
     "traceback": [
      "\u001b[1;31m---------------------------------------------------------------------------\u001b[0m",
      "\u001b[1;31mAttributeError\u001b[0m                            Traceback (most recent call last)",
      "Input \u001b[1;32mIn [4]\u001b[0m, in \u001b[0;36m<module>\u001b[1;34m\u001b[0m\n\u001b[1;32m----> 1\u001b[0m env \u001b[38;5;241m=\u001b[39m \u001b[43mFinEnv\u001b[49m\u001b[43m(\u001b[49m\u001b[43msymbols\u001b[49m\u001b[43m,\u001b[49m\u001b[43mfeatures_fix\u001b[49m\u001b[43m)\u001b[49m\n",
      "Input \u001b[1;32mIn [3]\u001b[0m, in \u001b[0;36mFinEnv.__init__\u001b[1;34m(self, symbols, features_fix, window, lags, leverage, episodes, split, valid, test)\u001b[0m\n\u001b[0;32m     17\u001b[0m \u001b[38;5;28mself\u001b[39m\u001b[38;5;241m.\u001b[39mtradingbots \u001b[38;5;241m=\u001b[39m \u001b[38;5;28mdict\u001b[39m()\n\u001b[0;32m     18\u001b[0m \u001b[38;5;28mself\u001b[39m\u001b[38;5;241m.\u001b[39mbacktesters \u001b[38;5;241m=\u001b[39m \u001b[38;5;28mdict\u001b[39m()\n\u001b[1;32m---> 20\u001b[0m \u001b[38;5;28;43mself\u001b[39;49m\u001b[38;5;241;43m.\u001b[39;49m\u001b[43m_build_env\u001b[49m\u001b[43m(\u001b[49m\u001b[43m)\u001b[49m\n",
      "Input \u001b[1;32mIn [3]\u001b[0m, in \u001b[0;36mFinEnv._build_env\u001b[1;34m(self)\u001b[0m\n\u001b[0;32m     23\u001b[0m \u001b[38;5;28;01mdef\u001b[39;00m \u001b[38;5;21m_build_env\u001b[39m(\u001b[38;5;28mself\u001b[39m):\n\u001b[0;32m     25\u001b[0m     \u001b[38;5;28;01mfor\u001b[39;00m symbol \u001b[38;5;129;01min\u001b[39;00m \u001b[38;5;28mself\u001b[39m\u001b[38;5;241m.\u001b[39msymbols:\n\u001b[1;32m---> 26\u001b[0m         learn_env \u001b[38;5;241m=\u001b[39m \u001b[43mFinanceStock\u001b[49m\u001b[43m(\u001b[49m\u001b[43msymbol\u001b[49m\u001b[43m,\u001b[49m\u001b[43m[\u001b[49m\u001b[43msymbol\u001b[49m\u001b[43m]\u001b[49m\u001b[43m \u001b[49m\u001b[38;5;241;43m+\u001b[39;49m\u001b[43m \u001b[49m\u001b[38;5;28;43mself\u001b[39;49m\u001b[38;5;241;43m.\u001b[39;49m\u001b[43mfeatures_fix\u001b[49m\u001b[43m,\u001b[49m\u001b[43mwindow\u001b[49m\u001b[38;5;241;43m=\u001b[39;49m\u001b[38;5;28;43mself\u001b[39;49m\u001b[38;5;241;43m.\u001b[39;49m\u001b[43mwindow\u001b[49m\u001b[43m,\u001b[49m\u001b[43mlags\u001b[49m\u001b[38;5;241;43m=\u001b[39;49m\u001b[38;5;28;43mself\u001b[39;49m\u001b[38;5;241;43m.\u001b[39;49m\u001b[43mlags\u001b[49m\u001b[43m,\u001b[49m\u001b[43mleverage\u001b[49m\u001b[38;5;241;43m=\u001b[39;49m\u001b[38;5;28;43mself\u001b[39;49m\u001b[38;5;241;43m.\u001b[39;49m\u001b[43mleverage\u001b[49m\u001b[43m,\u001b[49m\u001b[43mmin_performance\u001b[49m\u001b[38;5;241;43m=\u001b[39;49m\u001b[38;5;241;43m0.9\u001b[39;49m\u001b[43m,\u001b[49m\n\u001b[0;32m     27\u001b[0m \u001b[43m                     \u001b[49m\u001b[43mmin_accuracy\u001b[49m\u001b[38;5;241;43m=\u001b[39;49m\u001b[38;5;241;43m0.475\u001b[39;49m\u001b[43m,\u001b[49m\u001b[43mstart\u001b[49m\u001b[38;5;241;43m=\u001b[39;49m\u001b[38;5;28;43mself\u001b[39;49m\u001b[38;5;241;43m.\u001b[39;49m\u001b[43mstart\u001b[49m\u001b[43m,\u001b[49m\u001b[43mend\u001b[49m\u001b[38;5;241;43m=\u001b[39;49m\u001b[38;5;28;43mself\u001b[39;49m\u001b[38;5;241;43m.\u001b[39;49m\u001b[43msplit\u001b[49m\u001b[43m,\u001b[49m\u001b[43mmu\u001b[49m\u001b[38;5;241;43m=\u001b[39;49m\u001b[38;5;28;43;01mNone\u001b[39;49;00m\u001b[43m,\u001b[49m\u001b[43mstd\u001b[49m\u001b[38;5;241;43m=\u001b[39;49m\u001b[38;5;28;43;01mNone\u001b[39;49;00m\u001b[43m)\u001b[49m\n\u001b[0;32m     29\u001b[0m         \u001b[38;5;28mprint\u001b[39m(learn_env\u001b[38;5;241m.\u001b[39mdata_)\n\u001b[0;32m     30\u001b[0m         \u001b[38;5;28mself\u001b[39m\u001b[38;5;241m.\u001b[39ml_envs[symbol] \u001b[38;5;241m=\u001b[39m learn_env\n",
      "File \u001b[1;32m~\\SideProject\\ML_Financial_Practice\\FinanceAI_\\FinanceAI\\environment.py:34\u001b[0m, in \u001b[0;36mFinanceStock.__init__\u001b[1;34m(self, data, features, window, lags, leverage, min_performance, min_accuracy, start, end, mu, std, prepare_data)\u001b[0m\n\u001b[0;32m     32\u001b[0m \u001b[38;5;28;01mdef\u001b[39;00m \u001b[38;5;21m__init__\u001b[39m(\u001b[38;5;28mself\u001b[39m,data:pd\u001b[38;5;241m.\u001b[39mDataFrame,features,window,lags,leverage\u001b[38;5;241m=\u001b[39m\u001b[38;5;241m1\u001b[39m,min_performance\u001b[38;5;241m=\u001b[39m\u001b[38;5;241m0.85\u001b[39m,\n\u001b[0;32m     33\u001b[0m              min_accuracy\u001b[38;5;241m=\u001b[39m\u001b[38;5;241m0.5\u001b[39m,start\u001b[38;5;241m=\u001b[39m\u001b[38;5;241m0\u001b[39m,end\u001b[38;5;241m=\u001b[39m\u001b[38;5;28;01mNone\u001b[39;00m,mu\u001b[38;5;241m=\u001b[39m\u001b[38;5;28;01mNone\u001b[39;00m,std\u001b[38;5;241m=\u001b[39m\u001b[38;5;28;01mNone\u001b[39;00m,prepare_data\u001b[38;5;241m=\u001b[39m\u001b[38;5;28;01mFalse\u001b[39;00m):\n\u001b[1;32m---> 34\u001b[0m     \u001b[38;5;28mself\u001b[39m\u001b[38;5;241m.\u001b[39mdata \u001b[38;5;241m=\u001b[39m \u001b[43mdata\u001b[49m\u001b[38;5;241;43m.\u001b[39;49m\u001b[43mcopy\u001b[49m()\n\u001b[0;32m     35\u001b[0m     \u001b[38;5;28mself\u001b[39m\u001b[38;5;241m.\u001b[39mfeatures \u001b[38;5;241m=\u001b[39m features\n\u001b[0;32m     36\u001b[0m     \u001b[38;5;28mself\u001b[39m\u001b[38;5;241m.\u001b[39mn_features \u001b[38;5;241m=\u001b[39m \u001b[38;5;28mlen\u001b[39m(\u001b[38;5;28mself\u001b[39m\u001b[38;5;241m.\u001b[39mfeatures)\n",
      "\u001b[1;31mAttributeError\u001b[0m: 'str' object has no attribute 'copy'"
     ]
    }
   ],
   "source": [
    "env = FinEnv(symbols,features_fix)"
   ]
  },
  {
   "cell_type": "markdown",
   "id": "b1c6aa46",
   "metadata": {},
   "source": [
    "## 未有model"
   ]
  },
  {
   "cell_type": "code",
   "execution_count": 18,
   "id": "424a1e98",
   "metadata": {},
   "outputs": [
    {
     "name": "stdout",
     "output_type": "stream",
     "text": [
      "episode: 10/61 | treward:   16 | perf: 0.944 | av:  20.4 | max:  159 \n",
      " episode: 10/61 | VALIDATION | treward: 1865 | perf: 0.171 | eps: 0.92\n",
      "=======================================================================\n",
      "episode: 20/61 | treward:  212 | perf: 0.877 | av: 316.7 | max: 3516 6 \n",
      " episode: 20/61 | VALIDATION | treward: 1865 | perf: 1.658 | eps: 0.83\n",
      "=======================================================================\n",
      "episode: 30/61 | treward:  450 | perf: 0.887 | av: 751.4 | max: 3516 \n",
      " episode: 30/61 | VALIDATION | treward: 1865 | perf: 0.939 | eps: 0.75\n",
      "=======================================================================\n",
      "episode: 40/61 | treward:   17 | perf: 0.924 | av: 896.2 | max: 3516  \n",
      " episode: 40/61 | VALIDATION | treward: 1865 | perf: 1.074 | eps: 0.68\n",
      "=======================================================================\n",
      "episode: 50/61 | treward:   16 | perf: 1.047 | av: 1459.6 | max: 3516  \n",
      " episode: 50/61 | VALIDATION | treward: 1865 | perf: 1.287 | eps: 0.62\n",
      "=======================================================================\n",
      "episode: 60/61 | treward:   57 | perf: 1.212 | av: 1590.7 | max: 3516  \n",
      " episode: 60/61 | VALIDATION | treward: 1865 | perf: 1.120 | eps: 0.56\n",
      "=======================================================================\n",
      "INFO:tensorflow:Assets written to: ./models/2301.TW\\assets| max: 3516 \n",
      "episode: 10/61 | treward:   41 | perf: 1.060 | av:  28.4 | max:  304 \n",
      " episode: 10/61 | VALIDATION | treward: 1870 | perf: 0.655 | eps: 0.91\n",
      "=======================================================================\n",
      "episode: 20/61 | treward:   36 | perf: 0.885 | av: 311.0 | max: 3527 \n",
      " episode: 20/61 | VALIDATION | treward: 1870 | perf: 0.658 | eps: 0.83\n",
      "=======================================================================\n",
      "episode: 30/61 | treward:   16 | perf: 0.883 | av: 592.1 | max: 3527 7 \n",
      " episode: 30/61 | VALIDATION | treward: 1870 | perf: 0.374 | eps: 0.75\n",
      "=======================================================================\n",
      "episode: 40/61 | treward:   32 | perf: 0.898 | av: 544.2 | max: 3527 \n",
      " episode: 40/61 | VALIDATION | treward: 1870 | perf: 0.578 | eps: 0.68\n",
      "=======================================================================\n",
      "episode: 50/61 | treward:   43 | perf: 0.866 | av: 379.6 | max: 3527 \n",
      " episode: 50/61 | VALIDATION | treward: 1870 | perf: 4.672 | eps: 0.61\n",
      "=======================================================================\n",
      "episode: 60/61 | treward:   16 | perf: 0.823 | av: 503.6 | max: 3527 \n",
      " episode: 60/61 | VALIDATION | treward: 1870 | perf: 4.067 | eps: 0.55\n",
      "=======================================================================\n",
      "INFO:tensorflow:Assets written to: ./models/2352.TW\\assets max: 3527 \n",
      "episode: 10/61 | treward: 3544 | perf: 1.492 | av: 153.6 | max: 3544 \n",
      " episode: 10/61 | VALIDATION | treward: 1879 | perf: 0.161 | eps: 0.95\n",
      "=======================================================================\n",
      "episode: 20/61 | treward:   18 | perf: 0.834 | av: 181.8 | max: 3544 \n",
      " episode: 20/61 | VALIDATION | treward: 1879 | perf: 16.074 | eps: 0.86\n",
      "=======================================================================\n",
      "episode: 30/61 | treward:   64 | perf: 0.873 | av: 356.3 | max: 3544  \n",
      " episode: 30/61 | VALIDATION | treward: 1879 | perf: 3.037 | eps: 0.78\n",
      "=======================================================================\n",
      "episode: 40/61 | treward: 1838 | perf: 0.884 | av: 562.9 | max: 3544 \n",
      " episode: 40/61 | VALIDATION | treward: 1879 | perf: 4.127 | eps: 0.70\n",
      "=======================================================================\n",
      "episode: 50/61 | treward: 3544 | perf: 11.847 | av: 849.3 | max: 3544  \n",
      " episode: 50/61 | VALIDATION | treward: 1879 | perf: 4.785 | eps: 0.64\n",
      "=======================================================================\n",
      "episode: 60/61 | treward: 3544 | perf: 6.864 | av: 867.2 | max: 3544  \n",
      " episode: 60/61 | VALIDATION | treward: 1879 | perf: 1.072 | eps: 0.58\n",
      "=======================================================================\n",
      "INFO:tensorflow:Assets written to: ./models/2364.TW\\assets max: 3544 \n",
      "episode: 10/61 | treward:   22 | perf: 0.876 | av:  68.6 | max: 1082 \n",
      " episode: 10/61 | VALIDATION | treward: 1879 | perf: 0.431 | eps: 0.93\n",
      "=======================================================================\n",
      "episode: 20/61 | treward:   16 | perf: 0.937 | av:  76.9 | max: 1082 \n",
      " episode: 20/61 | VALIDATION | treward: 1879 | perf: 0.382 | eps: 0.84\n",
      "=======================================================================\n",
      "episode: 30/61 | treward: 3544 | perf: 5.871 | av: 211.9 | max: 3544 \n",
      " episode: 30/61 | VALIDATION | treward: 1879 | perf: 0.382 | eps: 0.76\n",
      "=======================================================================\n",
      "episode: 40/61 | treward:   28 | perf: 0.884 | av: 180.6 | max: 3544 \n",
      " episode: 40/61 | VALIDATION | treward: 1879 | perf: 0.382 | eps: 0.69\n",
      "=======================================================================\n",
      "episode: 50/61 | treward:  177 | perf: 0.876 | av: 345.0 | max: 3544 \n",
      " episode: 50/61 | VALIDATION | treward: 1879 | perf: 0.427 | eps: 0.62\n",
      "=======================================================================\n",
      "episode: 60/61 | treward:  667 | perf: 0.881 | av: 485.8 | max: 3544 \n",
      " episode: 60/61 | VALIDATION | treward: 1879 | perf: 0.388 | eps: 0.56\n",
      "=======================================================================\n",
      "INFO:tensorflow:Assets written to: ./models/2395.TW\\assets max: 3544 \n"
     ]
    }
   ],
   "source": [
    "env._build_tradingbot()"
   ]
  },
  {
   "cell_type": "markdown",
   "id": "2de1fd21",
   "metadata": {},
   "source": [
    "## 已有"
   ]
  },
  {
   "cell_type": "code",
   "execution_count": null,
   "id": "2bf14264",
   "metadata": {},
   "outputs": [],
   "source": [
    "env._get_tradingbot()"
   ]
  },
  {
   "cell_type": "code",
   "execution_count": null,
   "id": "4e6ee278",
   "metadata": {},
   "outputs": [],
   "source": [
    "target = '2412.TW'"
   ]
  },
  {
   "cell_type": "code",
   "execution_count": null,
   "id": "3e7e18a8",
   "metadata": {},
   "outputs": [],
   "source": [
    "env.tradingbots[target].model"
   ]
  },
  {
   "cell_type": "code",
   "execution_count": null,
   "id": "a9c08101",
   "metadata": {},
   "outputs": [],
   "source": [
    "tb = TBBacktesterRM(env.t_envs[target],env.tradingbots[target].model,10000,0.0,0,verbose=True)"
   ]
  },
  {
   "cell_type": "code",
   "execution_count": null,
   "id": "0d1de64d",
   "metadata": {},
   "outputs": [],
   "source": [
    "tb.backtest_strategy(sl=0.015,tsl=None,tp=0.0185,wait=5)"
   ]
  },
  {
   "cell_type": "markdown",
   "id": "8ae7b00f",
   "metadata": {},
   "source": [
    "https://havocfuture.tw/blog/python-indicators-talib"
   ]
  },
  {
   "cell_type": "code",
   "execution_count": null,
   "id": "b90cdacd",
   "metadata": {},
   "outputs": [],
   "source": []
  }
 ],
 "metadata": {
  "kernelspec": {
   "display_name": "Python 3 (ipykernel)",
   "language": "python",
   "name": "python3"
  },
  "language_info": {
   "codemirror_mode": {
    "name": "ipython",
    "version": 3
   },
   "file_extension": ".py",
   "mimetype": "text/x-python",
   "name": "python",
   "nbconvert_exporter": "python",
   "pygments_lexer": "ipython3",
   "version": "3.8.12"
  }
 },
 "nbformat": 4,
 "nbformat_minor": 5
}
