{
 "cells": [
  {
   "cell_type": "code",
   "execution_count": 1,
   "id": "02231ab6",
   "metadata": {},
   "outputs": [],
   "source": [
    "import matplotlib.pyplot as plt"
   ]
  },
  {
   "cell_type": "code",
   "execution_count": 2,
   "id": "6f9a9c3b",
   "metadata": {},
   "outputs": [
    {
     "data": {
      "text/plain": [
       "<matplotlib.pyplot._IonContext at 0x175aec54b80>"
      ]
     },
     "execution_count": 2,
     "metadata": {},
     "output_type": "execute_result"
    }
   ],
   "source": [
    "plt.ion() # 動態更新開關"
   ]
  },
  {
   "cell_type": "code",
   "execution_count": 3,
   "id": "fa786423",
   "metadata": {},
   "outputs": [],
   "source": [
    "class DynamicUpdate():\n",
    "    #Suppose we know the x range\n",
    "    min_x = 0\n",
    "    max_x = 10\n",
    "\n",
    "    def on_launch(self):\n",
    "        #Set up plot\n",
    "        self.figure, self.ax = plt.subplots()\n",
    "        self.lines, = self.ax.plot([],[], 'o')\n",
    "        #Autoscale on unknown axis and known lims on the other\n",
    "        self.ax.set_autoscaley_on(True)\n",
    "        self.ax.set_xlim(self.min_x, self.max_x)\n",
    "        #Other stuff\n",
    "        self.ax.grid()\n",
    "        ...\n",
    "\n",
    "    def on_running(self, xdata, ydata):\n",
    "        #Update data (with the new _and_ the old points)\n",
    "        self.lines.set_xdata(xdata)\n",
    "        self.lines.set_ydata(ydata)\n",
    "        #Need both of these in order to rescale\n",
    "        self.ax.relim()\n",
    "        self.ax.autoscale_view()\n",
    "        #We need to draw *and* flush\n",
    "        self.figure.canvas.draw()\n",
    "        self.figure.canvas.flush_events()\n",
    "\n",
    "    #Example\n",
    "    def __call__(self):\n",
    "        import numpy as np\n",
    "        import time\n",
    "        self.on_launch()\n",
    "        xdata = []\n",
    "        ydata = []\n",
    "        for x in np.arange(0,10,0.5):\n",
    "            xdata.append(x)\n",
    "            ydata.append(np.exp(-x**2)+10*np.exp(-(x-7)**2))\n",
    "            self.on_running(xdata, ydata)\n",
    "            time.sleep(1)\n",
    "        return xdata, ydata\n",
    "\n"
   ]
  },
  {
   "cell_type": "code",
   "execution_count": 5,
   "id": "0c634d70",
   "metadata": {},
   "outputs": [
    {
     "data": {
      "text/plain": [
       "<matplotlib.pyplot._IoffContext at 0x175aec672e0>"
      ]
     },
     "execution_count": 5,
     "metadata": {},
     "output_type": "execute_result"
    },
    {
     "data": {
      "image/png": "[encoded data removed]",
      "text/plain": [
       "<Figure size 432x288 with 1 Axes>"
      ]
     },
     "metadata": {
      "needs_background": "light"
     },
     "output_type": "display_data"
    }
   ],
   "source": [
    "d = DynamicUpdate()\n",
    "d()\n",
    "plt.ioff()"
   ]
  }
 ],
 "metadata": {
  "kernelspec": {
   "display_name": "Python 3 (ipykernel)",
   "language": "python",
   "name": "python3"
  },
  "language_info": {
   "codemirror_mode": {
    "name": "ipython",
    "version": 3
   },
   "file_extension": ".py",
   "mimetype": "text/x-python",
   "name": "python",
   "nbconvert_exporter": "python",
   "pygments_lexer": "ipython3",
   "version": "3.8.12"
  }
 },
 "nbformat": 4,
 "nbformat_minor": 5
}
