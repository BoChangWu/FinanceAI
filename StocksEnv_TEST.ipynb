{
 "cells": [
  {
   "cell_type": "code",
   "execution_count": 1,
   "id": "85d4b1a2",
   "metadata": {},
   "outputs": [],
   "source": [
    "from StocksEnv import FinanceEnv\n",
    "from technical_analysis import strategy_1"
   ]
  },
  {
   "cell_type": "code",
   "execution_count": null,
   "id": "0473db94",
   "metadata": {},
   "outputs": [],
   "source": [
    "start,end,method,features,lags,leverage,episodes,p1,p2,p3,p_test"
   ]
  },
  {
   "cell_type": "code",
   "execution_count": null,
   "id": "731d0f80",
   "metadata": {},
   "outputs": [],
   "source": [
    "test = FinanceEnv()"
   ]
  },
  {
   "cell_type": "code",
   "execution_count": 2,
   "id": "afacd38c",
   "metadata": {},
   "outputs": [],
   "source": [
    "import pandas as pd"
   ]
  },
  {
   "cell_type": "code",
   "execution_count": 3,
   "id": "e21c6d3a",
   "metadata": {},
   "outputs": [],
   "source": [
    "a = pd.Series([1,1,1])"
   ]
  },
  {
   "cell_type": "code",
   "execution_count": null,
   "id": "ee867488",
   "metadata": {},
   "outputs": [],
   "source": []
  },
  {
   "cell_type": "code",
   "execution_count": 4,
   "id": "d0f22a9f",
   "metadata": {},
   "outputs": [
    {
     "data": {
      "text/plain": [
       "0    1\n",
       "1    1\n",
       "2    1\n",
       "dtype: int64"
      ]
     },
     "execution_count": 4,
     "metadata": {},
     "output_type": "execute_result"
    }
   ],
   "source": [
    "a"
   ]
  },
  {
   "cell_type": "code",
   "execution_count": 5,
   "id": "fa6ec404",
   "metadata": {},
   "outputs": [
    {
     "data": {
      "text/plain": [
       "True"
      ]
     },
     "execution_count": 5,
     "metadata": {},
     "output_type": "execute_result"
    }
   ],
   "source": [
    "a.all() == 1"
   ]
  },
  {
   "cell_type": "code",
   "execution_count": 6,
   "id": "5425553e",
   "metadata": {},
   "outputs": [
    {
     "data": {
      "text/plain": [
       "True"
      ]
     },
     "execution_count": 6,
     "metadata": {},
     "output_type": "execute_result"
    }
   ],
   "source": [
    "a[-2:].all() == 1"
   ]
  }
 ],
 "metadata": {
  "kernelspec": {
   "display_name": "Python 3 (ipykernel)",
   "language": "python",
   "name": "python3"
  },
  "language_info": {
   "codemirror_mode": {
    "name": "ipython",
    "version": 3
   },
   "file_extension": ".py",
   "mimetype": "text/x-python",
   "name": "python",
   "nbconvert_exporter": "python",
   "pygments_lexer": "ipython3",
   "version": "3.8.12"
  }
 },
 "nbformat": 4,
 "nbformat_minor": 5
}
